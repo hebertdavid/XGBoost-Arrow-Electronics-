{
  "nbformat": 4,
  "nbformat_minor": 0,
  "metadata": {
    "colab": {
      "name": "Copy of Final XGBoost Model.ipynb",
      "provenance": [],
      "collapsed_sections": [
        "0ye07CCJh_Iy",
        "QvtuzdzKhkey",
        "-PktF8ig9gcK"
      ],
      "mount_file_id": "1-xpPsZqAzJyRIByEP9zINRUsHo17rbbA",
      "authorship_tag": "ABX9TyNiH9UvF+icnQecmWkeTUGX"
    },
    "kernelspec": {
      "name": "python3",
      "display_name": "Python 3"
    }
  },
  "cells": [
    {
      "cell_type": "code",
      "metadata": {
        "id": "glu5jAXo4Fkd"
      },
      "source": [
        "import pandas as pd\n",
        "import pandas\n",
        "from sklearn.model_selection import train_test_split\n",
        "from sklearn.metrics import auc, accuracy_score, confusion_matrix, mean_squared_error, mean_absolute_error\n",
        "from sklearn.linear_model import LassoLarsCV\n",
        "from sklearn.model_selection import cross_val_score, GridSearchCV, KFold, RandomizedSearchCV, train_test_split\n",
        "import numpy as np\n",
        "from xgboost import XGBRegressor\n",
        "import xgboost as xgb"
      ],
      "execution_count": null,
      "outputs": []
    },
    {
      "cell_type": "code",
      "metadata": {
        "id": "Mebz-fZFRgTs"
      },
      "source": [
        "working_directory = '/content/drive/MyDrive/Arrow Electronics MSBC5490'"
      ],
      "execution_count": null,
      "outputs": []
    },
    {
      "cell_type": "code",
      "metadata": {
        "id": "_6ojt7mg4QjV"
      },
      "source": [
        "url = '/content/drive/MyDrive/Arrow Electronics MSBC5490/LEADTIME_unhashed.csv'\n",
        "arrow_DF = pd.read_csv(url)\n",
        "arrowDF = pd.DataFrame(arrow_DF)\n",
        "\n",
        "arrowDF = arrow_DF.drop(columns = 'Unnamed: 0')"
      ],
      "execution_count": null,
      "outputs": []
    },
    {
      "cell_type": "markdown",
      "metadata": {
        "id": "0ye07CCJh_Iy"
      },
      "source": [
        "## Setup and Inspect the Data"
      ]
    },
    {
      "cell_type": "code",
      "metadata": {
        "id": "TRv4nhX3L5k9"
      },
      "source": [
        "frequency = arrowDF['mfr'].value_counts()\n",
        "frequency"
      ],
      "execution_count": null,
      "outputs": []
    },
    {
      "cell_type": "code",
      "metadata": {
        "id": "6Hl0sYpPMAK5"
      },
      "source": [
        "frequency = pd.DataFrame(frequency)\n",
        "sum(frequency['mfr'].head(18))/sum(frequency['mfr'])"
      ],
      "execution_count": null,
      "outputs": []
    },
    {
      "cell_type": "code",
      "metadata": {
        "id": "TktkKf4-MC2u"
      },
      "source": [
        "frequencyList = list(frequency.head(18).index)\n",
        "frequencyList"
      ],
      "execution_count": null,
      "outputs": []
    },
    {
      "cell_type": "code",
      "metadata": {
        "id": "WI7LzhdzNECs"
      },
      "source": [
        "arrowDF2 = arrowDF[arrowDF['mfr'].isin(frequencyList)]\n",
        "arrowDF2.head()"
      ],
      "execution_count": null,
      "outputs": []
    },
    {
      "cell_type": "code",
      "metadata": {
        "colab": {
          "base_uri": "https://localhost:8080/"
        },
        "id": "MamFP3h_Nm5U",
        "outputId": "714b6ef0-0806-4d80-e593-3bec797d8c4c"
      },
      "source": [
        "print(len(arrowDF2['mfr'].unique()))\n",
        "print(len(arrowDF2['icc3'].unique()))\n",
        "print(len(arrowDF2['icc2'].unique()))\n",
        "print(len(arrowDF2['icc1'].unique()))"
      ],
      "execution_count": null,
      "outputs": [
        {
          "output_type": "stream",
          "text": [
            "18\n",
            "362\n",
            "50\n",
            "10\n"
          ],
          "name": "stdout"
        }
      ]
    },
    {
      "cell_type": "code",
      "metadata": {
        "colab": {
          "base_uri": "https://localhost:8080/"
        },
        "id": "yox5S4lmyxlC",
        "outputId": "ada20271-268d-405d-f3ac-e1f0950a0594"
      },
      "source": [
        "print(len(arrowDF['mfr'].unique()))\n",
        "print(len(arrowDF['icc3'].unique()))\n",
        "print(len(arrowDF['icc2'].unique()))\n",
        "print(len(arrowDF['icc1'].unique()))"
      ],
      "execution_count": null,
      "outputs": [
        {
          "output_type": "stream",
          "text": [
            "337\n",
            "506\n",
            "62\n",
            "10\n"
          ],
          "name": "stdout"
        }
      ]
    },
    {
      "cell_type": "markdown",
      "metadata": {
        "id": "64vtCiVKh0UQ"
      },
      "source": [
        "## Select Features and Target, Test and Split Data "
      ]
    },
    {
      "cell_type": "code",
      "metadata": {
        "id": "aSgesZCCaGH9"
      },
      "source": [
        "features_imp = ['mfr','icc1','icc2','PCA0','PCA1','PCA3','PCA4','PCA5','PCA7','PCA8','PCA19','PCA21','PCA33']"
      ],
      "execution_count": null,
      "outputs": []
    },
    {
      "cell_type": "code",
      "metadata": {
        "id": "znspLzT94DBP"
      },
      "source": [
        "X = arrowDF2[features_imp]\n",
        "X.head()"
      ],
      "execution_count": null,
      "outputs": []
    },
    {
      "cell_type": "code",
      "metadata": {
        "id": "40CAd0s94d5n"
      },
      "source": [
        "y = arrowDF2['actualleadtime'].copy()\n",
        "y.head()"
      ],
      "execution_count": null,
      "outputs": []
    },
    {
      "cell_type": "code",
      "metadata": {
        "colab": {
          "base_uri": "https://localhost:8080/"
        },
        "id": "QyohMmJW6m9v",
        "outputId": "b602a9b4-3528-4fd3-da11-5ff35f58f928"
      },
      "source": [
        "X_encoded = pd.get_dummies(X, columns=['icc1','icc2','mfr'])\n",
        "X_encoded.head()\n",
        "len(X_encoded)"
      ],
      "execution_count": null,
      "outputs": [
        {
          "output_type": "execute_result",
          "data": {
            "text/plain": [
              "39553"
            ]
          },
          "metadata": {
            "tags": []
          },
          "execution_count": 21
        }
      ]
    },
    {
      "cell_type": "code",
      "metadata": {
        "id": "wPHcfzi76Rf9"
      },
      "source": [
        "X_train, X_test, y_train, y_test = train_test_split(X_encoded, y, train_size=.80, test_size=.20, random_state=123) "
      ],
      "execution_count": null,
      "outputs": []
    },
    {
      "cell_type": "code",
      "metadata": {
        "colab": {
          "base_uri": "https://localhost:8080/"
        },
        "id": "9ECTRUlOMN9Y",
        "outputId": "f5fef537-e170-4773-f2b5-6b9124674034"
      },
      "source": [
        "print(len(X_train))\n",
        "print(len(X_test))\n"
      ],
      "execution_count": null,
      "outputs": [
        {
          "output_type": "stream",
          "text": [
            "31642\n",
            "7911\n"
          ],
          "name": "stdout"
        }
      ]
    },
    {
      "cell_type": "markdown",
      "metadata": {
        "id": "QvtuzdzKhkey"
      },
      "source": [
        "## Explore: Basic Model Buildling, Trying Different Combos of Data/Variables"
      ]
    },
    {
      "cell_type": "markdown",
      "metadata": {
        "id": "net4X1JqHWV3"
      },
      "source": [
        "Base Model -- Kitchen Sink\n",
        "Data: All, Variables: All except MFR, Split: 80/20, RMSE: 6.994, MAE: 5.532"
      ]
    },
    {
      "cell_type": "code",
      "metadata": {
        "colab": {
          "base_uri": "https://localhost:8080/"
        },
        "id": "Jbf4knmQTIaA",
        "outputId": "096afef6-d7b6-4500-dce4-e98ed5db6b9f"
      },
      "source": [
        "xgb_model1 = XGBRegressor()\n",
        "xgb_model1.fit(X_train, y_train)"
      ],
      "execution_count": null,
      "outputs": [
        {
          "output_type": "stream",
          "text": [
            "[22:27:44] WARNING: /workspace/src/objective/regression_obj.cu:152: reg:linear is now deprecated in favor of reg:squarederror.\n"
          ],
          "name": "stdout"
        },
        {
          "output_type": "execute_result",
          "data": {
            "text/plain": [
              "XGBRegressor(base_score=0.5, booster='gbtree', colsample_bylevel=1,\n",
              "             colsample_bynode=1, colsample_bytree=1, gamma=0,\n",
              "             importance_type='gain', learning_rate=0.1, max_delta_step=0,\n",
              "             max_depth=3, min_child_weight=1, missing=None, n_estimators=100,\n",
              "             n_jobs=1, nthread=None, objective='reg:linear', random_state=0,\n",
              "             reg_alpha=0, reg_lambda=1, scale_pos_weight=1, seed=None,\n",
              "             silent=None, subsample=1, verbosity=1)"
            ]
          },
          "metadata": {
            "tags": []
          },
          "execution_count": 23
        }
      ]
    },
    {
      "cell_type": "code",
      "metadata": {
        "colab": {
          "base_uri": "https://localhost:8080/"
        },
        "id": "zWRJjmjzRYEz",
        "outputId": "3598ae8a-d329-4aa3-b906-bfb54f9d86eb"
      },
      "source": [
        "preds = xgb_model1.predict(X_test)\n",
        "rmse = np.sqrt(mean_squared_error(y_test, preds))\n",
        "print(\"RMSE: %f\" % (rmse))\n",
        "print(\"Mean Absolute Error : \" + str(mean_absolute_error(preds, y_test)))"
      ],
      "execution_count": null,
      "outputs": [
        {
          "output_type": "stream",
          "text": [
            "RMSE: 7.177400\n",
            "Mean Absolute Error : 5.6423558216453005\n"
          ],
          "name": "stdout"
        }
      ]
    },
    {
      "cell_type": "markdown",
      "metadata": {
        "id": "oW515G5DLWe_"
      },
      "source": [
        "Model Using Important Variables -- Scree -- Data: All excpet MFR, Split: 80/20\n",
        "RMSE: 7.299736\n",
        "MAE: 5.907082"
      ]
    },
    {
      "cell_type": "code",
      "metadata": {
        "colab": {
          "base_uri": "https://localhost:8080/"
        },
        "id": "9wBYIkGgJ5xZ",
        "outputId": "dfb788cf-c5bd-47af-88c2-5471b97f5e59"
      },
      "source": [
        "xgb_model_2 = XGBRegressor()\n",
        "xgb_model_2.fit(X_train, y_train)"
      ],
      "execution_count": null,
      "outputs": [
        {
          "output_type": "stream",
          "text": [
            "[22:27:51] WARNING: /workspace/src/objective/regression_obj.cu:152: reg:linear is now deprecated in favor of reg:squarederror.\n"
          ],
          "name": "stdout"
        },
        {
          "output_type": "execute_result",
          "data": {
            "text/plain": [
              "XGBRegressor(base_score=0.5, booster='gbtree', colsample_bylevel=1,\n",
              "             colsample_bynode=1, colsample_bytree=1, gamma=0,\n",
              "             importance_type='gain', learning_rate=0.1, max_delta_step=0,\n",
              "             max_depth=3, min_child_weight=1, missing=None, n_estimators=100,\n",
              "             n_jobs=1, nthread=None, objective='reg:linear', random_state=0,\n",
              "             reg_alpha=0, reg_lambda=1, scale_pos_weight=1, seed=None,\n",
              "             silent=None, subsample=1, verbosity=1)"
            ]
          },
          "metadata": {
            "tags": []
          },
          "execution_count": 25
        }
      ]
    },
    {
      "cell_type": "code",
      "metadata": {
        "colab": {
          "base_uri": "https://localhost:8080/"
        },
        "id": "D1zvCFUFKOwk",
        "outputId": "6463fd04-e533-435a-c92c-81c080fcc1a8"
      },
      "source": [
        "preds_2 = xgb_model_2.predict(X_test)\n",
        "rmse = np.sqrt(mean_squared_error(y_test, preds_2))\n",
        "print(\"RMSE: %f\" % (rmse))\n",
        "print(\"Mean Absolute Error : \" + str(mean_absolute_error(preds_2, y_test)))"
      ],
      "execution_count": null,
      "outputs": [
        {
          "output_type": "stream",
          "text": [
            "RMSE: 7.177400\n",
            "Mean Absolute Error : 5.6423558216453005\n"
          ],
          "name": "stdout"
        }
      ]
    },
    {
      "cell_type": "code",
      "metadata": {
        "colab": {
          "base_uri": "https://localhost:8080/"
        },
        "id": "ohIkdLq8MTA5",
        "outputId": "22bd554f-f03b-4d07-aa38-2f311f47de0c"
      },
      "source": [
        "xgb_model_3 = XGBRegressor()\n",
        "xgb_model_3.fit(X_train, y_train)"
      ],
      "execution_count": null,
      "outputs": [
        {
          "output_type": "stream",
          "text": [
            "[22:27:59] WARNING: /workspace/src/objective/regression_obj.cu:152: reg:linear is now deprecated in favor of reg:squarederror.\n"
          ],
          "name": "stdout"
        },
        {
          "output_type": "execute_result",
          "data": {
            "text/plain": [
              "XGBRegressor(base_score=0.5, booster='gbtree', colsample_bylevel=1,\n",
              "             colsample_bynode=1, colsample_bytree=1, gamma=0,\n",
              "             importance_type='gain', learning_rate=0.1, max_delta_step=0,\n",
              "             max_depth=3, min_child_weight=1, missing=None, n_estimators=100,\n",
              "             n_jobs=1, nthread=None, objective='reg:linear', random_state=0,\n",
              "             reg_alpha=0, reg_lambda=1, scale_pos_weight=1, seed=None,\n",
              "             silent=None, subsample=1, verbosity=1)"
            ]
          },
          "metadata": {
            "tags": []
          },
          "execution_count": 27
        }
      ]
    },
    {
      "cell_type": "code",
      "metadata": {
        "colab": {
          "base_uri": "https://localhost:8080/"
        },
        "id": "jXDA8qLOMU4G",
        "outputId": "ee5e2c05-fdff-4218-f907-1f03a8be90d9"
      },
      "source": [
        "preds_3 = xgb_model_3.predict(X_test)\n",
        "rmse = np.sqrt(mean_squared_error(y_test, preds_3))\n",
        "print(\"RMSE: %f\" % (rmse))\n",
        "print(\"Mean Absolute Error : \" + str(mean_absolute_error(preds_3, y_test)))"
      ],
      "execution_count": null,
      "outputs": [
        {
          "output_type": "stream",
          "text": [
            "RMSE: 7.177400\n",
            "Mean Absolute Error : 5.6423558216453005\n"
          ],
          "name": "stdout"
        }
      ]
    },
    {
      "cell_type": "markdown",
      "metadata": {
        "id": "ttyT_FhYUnUn"
      },
      "source": [
        "Model Using Important Variables -- Used 1cc1, icc2, mfr and imp variables  -- Data: IMP MFR 60% excpet icc3, Split: 90/10 RMSE: 7.23 MAE: 5.71"
      ]
    },
    {
      "cell_type": "code",
      "metadata": {
        "colab": {
          "base_uri": "https://localhost:8080/"
        },
        "id": "UB8DevSpUm_a",
        "outputId": "5272d7bc-e519-4bed-fc67-781e609a2ddd"
      },
      "source": [
        "xgb_model_4 = XGBRegressor()\n",
        "xgb_model_4.fit(X_train, y_train)"
      ],
      "execution_count": null,
      "outputs": [
        {
          "output_type": "stream",
          "text": [
            "[22:28:06] WARNING: /workspace/src/objective/regression_obj.cu:152: reg:linear is now deprecated in favor of reg:squarederror.\n"
          ],
          "name": "stdout"
        },
        {
          "output_type": "execute_result",
          "data": {
            "text/plain": [
              "XGBRegressor(base_score=0.5, booster='gbtree', colsample_bylevel=1,\n",
              "             colsample_bynode=1, colsample_bytree=1, gamma=0,\n",
              "             importance_type='gain', learning_rate=0.1, max_delta_step=0,\n",
              "             max_depth=3, min_child_weight=1, missing=None, n_estimators=100,\n",
              "             n_jobs=1, nthread=None, objective='reg:linear', random_state=0,\n",
              "             reg_alpha=0, reg_lambda=1, scale_pos_weight=1, seed=None,\n",
              "             silent=None, subsample=1, verbosity=1)"
            ]
          },
          "metadata": {
            "tags": []
          },
          "execution_count": 29
        }
      ]
    },
    {
      "cell_type": "code",
      "metadata": {
        "colab": {
          "base_uri": "https://localhost:8080/"
        },
        "id": "D_QGYoe_Umzh",
        "outputId": "7975d0c4-273a-4c13-daf5-00c58d8acf9c"
      },
      "source": [
        "preds_4 = xgb_model_4.predict(X_test)\n",
        "rmse = np.sqrt(mean_squared_error(y_test, preds_4))\n",
        "print(\"RMSE: %f\" % (rmse))\n",
        "print(\"Mean Absolute Error : \" + str(mean_absolute_error(preds_4, y_test)))"
      ],
      "execution_count": null,
      "outputs": [
        {
          "output_type": "stream",
          "text": [
            "RMSE: 7.177400\n",
            "Mean Absolute Error : 5.6423558216453005\n"
          ],
          "name": "stdout"
        }
      ]
    },
    {
      "cell_type": "markdown",
      "metadata": {
        "id": "roWbNbiHWXZ6"
      },
      "source": [
        "Model Using Important Variables -- Used scree features  -- Data: IMP MFR 60% excpet icc3, Split: 90/10 RMSE: 7.20 MAE: 5.6"
      ]
    },
    {
      "cell_type": "code",
      "metadata": {
        "colab": {
          "base_uri": "https://localhost:8080/"
        },
        "id": "57ZmBpZHVcxA",
        "outputId": "f03775e1-8c73-43b2-9ac9-089e0abe276a"
      },
      "source": [
        "xgb_model_5 = XGBRegressor()\n",
        "xgb_model_5.fit(X_train, y_train)"
      ],
      "execution_count": null,
      "outputs": [
        {
          "output_type": "stream",
          "text": [
            "[22:28:13] WARNING: /workspace/src/objective/regression_obj.cu:152: reg:linear is now deprecated in favor of reg:squarederror.\n"
          ],
          "name": "stdout"
        },
        {
          "output_type": "execute_result",
          "data": {
            "text/plain": [
              "XGBRegressor(base_score=0.5, booster='gbtree', colsample_bylevel=1,\n",
              "             colsample_bynode=1, colsample_bytree=1, gamma=0,\n",
              "             importance_type='gain', learning_rate=0.1, max_delta_step=0,\n",
              "             max_depth=3, min_child_weight=1, missing=None, n_estimators=100,\n",
              "             n_jobs=1, nthread=None, objective='reg:linear', random_state=0,\n",
              "             reg_alpha=0, reg_lambda=1, scale_pos_weight=1, seed=None,\n",
              "             silent=None, subsample=1, verbosity=1)"
            ]
          },
          "metadata": {
            "tags": []
          },
          "execution_count": 31
        }
      ]
    },
    {
      "cell_type": "code",
      "metadata": {
        "colab": {
          "base_uri": "https://localhost:8080/"
        },
        "id": "OHLxMnDyVcqP",
        "outputId": "b458a1c8-89ee-4761-e6ae-d60619977c7a"
      },
      "source": [
        "preds_5 = xgb_model_5.predict(X_test)\n",
        "rmse = np.sqrt(mean_squared_error(y_test, preds_5))\n",
        "print(\"RMSE: %f\" % (rmse))\n",
        "print(\"Mean Absolute Error : \" + str(mean_absolute_error(preds_5, y_test)))"
      ],
      "execution_count": null,
      "outputs": [
        {
          "output_type": "stream",
          "text": [
            "RMSE: 7.177400\n",
            "Mean Absolute Error : 5.6423558216453005\n"
          ],
          "name": "stdout"
        }
      ]
    },
    {
      "cell_type": "markdown",
      "metadata": {
        "id": "-PktF8ig9gcK"
      },
      "source": [
        "## 2. Hypertuning the parameters using RandomSearchCV\n"
      ]
    },
    {
      "cell_type": "code",
      "metadata": {
        "id": "ohy8I7HyC29p"
      },
      "source": [
        "param_tuning = {'learning_rate': [0.01, 0.03, 0.05, 0.07, 0.09, 0.1, 0.3],\n",
        "                'max_depth': [3, 5, 7, 10],\n",
        "                'n_estimators' : [100, 200, 500, 1000]\n",
        "                }\n",
        "\n",
        "gbm = xgb.XGBRegressor()"
      ],
      "execution_count": null,
      "outputs": []
    },
    {
      "cell_type": "code",
      "metadata": {
        "id": "yFo-QIDL_ZhR"
      },
      "source": [
        "# Perform random search: grid_mse\n",
        "randomized_mse = RandomizedSearchCV(estimator=gbm, param_distributions=param_tuning,\n",
        "                                    n_iter=10, scoring='neg_mean_squared_error', cv=4, verbose=1)\n",
        "randomized_mse.fit(X_train, y_train)"
      ],
      "execution_count": null,
      "outputs": []
    },
    {
      "cell_type": "code",
      "metadata": {
        "colab": {
          "base_uri": "https://localhost:8080/"
        },
        "id": "cBB6f67A_lRo",
        "outputId": "400267d9-1447-4a79-a032-4c28264decff"
      },
      "source": [
        "# Print the best parameters and lowest RMSE\n",
        "print(\"Best parameters found: \",randomized_mse.best_params_)\n",
        "print(\"Lowest RMSE found: \", np.sqrt(np.abs(randomized_mse.best_score_)))"
      ],
      "execution_count": null,
      "outputs": [
        {
          "output_type": "stream",
          "text": [
            "Best parameters found:  {'n_estimators': 100, 'max_depth': 10, 'learning_rate': 0.07}\n",
            "Lowest RMSE found:  6.910048736266091\n"
          ],
          "name": "stdout"
        }
      ]
    },
    {
      "cell_type": "markdown",
      "metadata": {
        "id": "qbWKua_IiTIj"
      },
      "source": [
        "Make predictions using the test data, should be better than the training metrics"
      ]
    },
    {
      "cell_type": "markdown",
      "metadata": {
        "id": "i1_e8Ox3g5Y0"
      },
      "source": [
        "## 3. Plug Optimal Values Found Above Into Model\n"
      ]
    },
    {
      "cell_type": "code",
      "metadata": {
        "colab": {
          "base_uri": "https://localhost:8080/"
        },
        "id": "LRQ3JjltfxNb",
        "outputId": "b7c2d6fb-5612-4cf0-d4d1-fea72b1c31de"
      },
      "source": [
        "model_final = XGBRegressor(n_estimators=200, learning_rate=0.05, max_depth=10)\n",
        "model_final.fit(X_train, y_train, \n",
        "             early_stopping_rounds=5, \n",
        "             eval_set=[(X_test, y_test)], \n",
        "             verbose=False)"
      ],
      "execution_count": null,
      "outputs": [
        {
          "output_type": "stream",
          "text": [
            "[22:59:13] WARNING: /workspace/src/objective/regression_obj.cu:152: reg:linear is now deprecated in favor of reg:squarederror.\n"
          ],
          "name": "stdout"
        },
        {
          "output_type": "execute_result",
          "data": {
            "text/plain": [
              "XGBRegressor(base_score=0.5, booster='gbtree', colsample_bylevel=1,\n",
              "             colsample_bynode=1, colsample_bytree=1, gamma=0,\n",
              "             importance_type='gain', learning_rate=0.05, max_delta_step=0,\n",
              "             max_depth=10, min_child_weight=1, missing=None, n_estimators=200,\n",
              "             n_jobs=1, nthread=None, objective='reg:linear', random_state=0,\n",
              "             reg_alpha=0, reg_lambda=1, scale_pos_weight=1, seed=None,\n",
              "             silent=None, subsample=1, verbosity=1)"
            ]
          },
          "metadata": {
            "tags": []
          },
          "execution_count": 37
        }
      ]
    },
    {
      "cell_type": "code",
      "metadata": {
        "colab": {
          "base_uri": "https://localhost:8080/"
        },
        "id": "LC8MIqu-gfjh",
        "outputId": "9a73d880-2c26-40df-aaf0-e2b7ebade5b2"
      },
      "source": [
        "preds_final = model_final.predict(X_test)\n",
        "rmse = np.sqrt(mean_squared_error(y_test, preds_final))\n",
        "print(\"RMSE: %f\" % (rmse))\n",
        "print(\"Mean Absolute Error : \" + str(mean_absolute_error(preds_final, y_test)))"
      ],
      "execution_count": null,
      "outputs": [
        {
          "output_type": "stream",
          "text": [
            "RMSE: 6.807029\n",
            "Mean Absolute Error : 5.236327932691954\n"
          ],
          "name": "stdout"
        }
      ]
    },
    {
      "cell_type": "markdown",
      "metadata": {
        "id": "qbx7n8X2m7m2"
      },
      "source": [
        "Create final dataframe used for economic impact "
      ]
    },
    {
      "cell_type": "code",
      "metadata": {
        "id": "6_OZPKu3QCv6"
      },
      "source": [
        "X_test['Predictions'] = preds_final\n",
        "X_test\n",
        "X_test_short = X_test.iloc[:,-1:]\n",
        "X_test_short\n",
        "\n",
        "final_df_mini = X_test.join(arrowDF2['expected_leadtime'])\n",
        "final_df = pd.concat([X_test_short, arrowDF2], axis=1, sort=False)\n",
        "final_df.dropna(inplace=True)\n"
      ],
      "execution_count": null,
      "outputs": []
    },
    {
      "cell_type": "code",
      "metadata": {
        "id": "wMQZ44d1SQEN"
      },
      "source": [
        "final_df = final_df[['Predictions', 'actualleadtime', 'expected_leadtime']]\n",
        "final_df"
      ],
      "execution_count": null,
      "outputs": []
    },
    {
      "cell_type": "markdown",
      "metadata": {
        "id": "4ikehZDFztTi"
      },
      "source": [
        "## Economic Impact"
      ]
    },
    {
      "cell_type": "code",
      "metadata": {
        "id": "xSk9X0A5lafN"
      },
      "source": [
        "final_df['Observed_Difference']=final_df['actualleadtime']-final_df['expected_leadtime']\n",
        "final_df['Predictions_Difference']=round(final_df['Predictions']-final_df['expected_leadtime'])\n",
        "final_df['Predictions_Difference'].round()\n",
        "final_df"
      ],
      "execution_count": null,
      "outputs": []
    },
    {
      "cell_type": "code",
      "metadata": {
        "id": "TRWZ7ThtTytP"
      },
      "source": [
        "final_df['penalty'] = \"\"\n",
        "\n",
        "for index, row in final_df.iterrows():\n",
        "  \n",
        "  \n",
        "  if final_df.loc[index, 'Predictions_Difference'] < -2:\n",
        "    final_df.loc[index, 'penalty'] = final_df.loc[index, 'Predictions_Difference'] * -400\n",
        "\n",
        "  elif final_df.loc[index, 'Predictions_Difference'] <= 0 and final_df.loc[index, 'Predictions_Difference'] >= -2:\n",
        "    final_df.loc[index, 'penalty'] = 0\n",
        "\n",
        "  elif final_df.loc[index, 'Predictions_Difference'] == 1:\n",
        "    final_df.loc[index, 'penalty'] = 400\n",
        "\n",
        "  elif final_df.loc[index, 'Predictions_Difference'] >= 2 and final_df.loc[index, 'Predictions_Difference'] < 4:\n",
        "    final_df.loc[index, 'penalty'] = 600\n",
        "\n",
        "  elif final_df.loc[index, 'Predictions_Difference'] >= 4 and final_df.loc[index, 'Predictions_Difference'] < 8:\n",
        "    final_df.loc[index, 'penalty'] = 1000\n",
        "\n",
        "  else:\n",
        "    final_df.loc[index, 'penalty'] = 4000\n",
        "\n",
        "\n"
      ],
      "execution_count": null,
      "outputs": []
    },
    {
      "cell_type": "code",
      "metadata": {
        "id": "_miwcRXEsrLK"
      },
      "source": [
        "# Economic Impact Model: Actual \n",
        "\n",
        "final_df['penalty_actual'] = \"\"\n",
        "\n",
        "for index, row in final_df.iterrows():\n",
        "  \n",
        "  \n",
        "  if final_df.loc[index, 'Observed_Difference'] < -2:\n",
        "    final_df.loc[index, 'penalty_actual'] = final_df.loc[index, 'Observed_Difference'] * -400\n",
        "\n",
        "  elif final_df.loc[index, 'Observed_Difference'] <= 0 and final_df.loc[index, 'Observed_Difference'] >= -2:\n",
        "    final_df.loc[index, 'penalty_actual'] = 0\n",
        "\n",
        "  elif final_df.loc[index, 'Observed_Difference'] == 1:\n",
        "    final_df.loc[index, 'penalty_actual'] = 400\n",
        "\n",
        "  elif final_df.loc[index, 'Observed_Difference'] >= 2 and final_df.loc[index, 'Observed_Difference'] < 4:\n",
        "    final_df.loc[index, 'penalty_actual'] = 600\n",
        "\n",
        "  elif final_df.loc[index, 'Observed_Difference'] >= 4 and final_df.loc[index, 'Observed_Difference'] < 8:\n",
        "    final_df.loc[index, 'penalty_actual'] = 1000\n",
        "\n",
        "  else:\n",
        "    final_df.loc[index, 'penalty_actual'] = 4000\n",
        "\n"
      ],
      "execution_count": null,
      "outputs": []
    },
    {
      "cell_type": "code",
      "metadata": {
        "id": "jd8BMXgwq_Os"
      },
      "source": [
        "# Validate that the predictions are correct \n",
        "final_df[final_df['Predictions_Difference'] == -20]"
      ],
      "execution_count": null,
      "outputs": []
    },
    {
      "cell_type": "code",
      "metadata": {
        "id": "Ugjg7CyqS8RS"
      },
      "source": [
        "penalty_diff = sum(final_df['penalty']) - sum(final_df['penalty_actual'])\n",
        "penalty = sum(final_df['penalty'])\n",
        "actual_penalty = sum(final_df['penalty_actual'])"
      ],
      "execution_count": null,
      "outputs": []
    },
    {
      "cell_type": "code",
      "metadata": {
        "id": "yyNwWFIMQawi"
      },
      "source": [
        "print(\"Penalty Predicted By Model: \" + \"{:,}\".format(penalty))\n",
        "print(\"Penalty From Actual Data: \" + \"{:,}\".format(actual_penalty))\n",
        "print(\"Penalty Difference: \" + \"{:,}\".format(penalty_diff))"
      ],
      "execution_count": null,
      "outputs": []
    }
  ]
}