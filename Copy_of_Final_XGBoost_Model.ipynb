{
  "nbformat": 4,
  "nbformat_minor": 0,
  "metadata": {
    "colab": {
      "name": "Copy of Final XGBoost Model.ipynb",
      "provenance": [],
      "collapsed_sections": [
        "0ye07CCJh_Iy",
        "QvtuzdzKhkey",
        "-PktF8ig9gcK"
      ],
      "mount_file_id": "1-xpPsZqAzJyRIByEP9zINRUsHo17rbbA",
      "authorship_tag": "ABX9TyNaIjSkl/E6atBipRsCk5yp"
    },
    "kernelspec": {
      "name": "python3",
      "display_name": "Python 3"
    }
  },
  "cells": [
    {
      "cell_type": "code",
      "metadata": {
        "id": "glu5jAXo4Fkd"
      },
      "source": [
        "import pandas as pd\n",
        "import pandas\n",
        "from sklearn.model_selection import train_test_split\n",
        "from sklearn.metrics import auc, accuracy_score, confusion_matrix, mean_squared_error, mean_absolute_error\n",
        "from sklearn.linear_model import LassoLarsCV\n",
        "from sklearn.model_selection import cross_val_score, GridSearchCV, KFold, RandomizedSearchCV, train_test_split\n",
        "import numpy as np\n",
        "from xgboost import XGBRegressor\n",
        "import xgboost as xgb"
      ],
      "execution_count": null,
      "outputs": []
    },
    {
      "cell_type": "code",
      "metadata": {
        "id": "Mebz-fZFRgTs"
      },
      "source": [
        "working_directory = '/content/drive/MyDrive/Arrow Electronics MSBC5490'"
      ],
      "execution_count": null,
      "outputs": []
    },
    {
      "cell_type": "code",
      "metadata": {
        "id": "_6ojt7mg4QjV"
      },
      "source": [
        "url = '/content/drive/MyDrive/Arrow Electronics MSBC5490/LEADTIME_unhashed.csv'\n",
        "arrow_DF = pd.read_csv(url)\n",
        "arrowDF = pd.DataFrame(arrow_DF)\n",
        "\n",
        "arrowDF = arrow_DF.drop(columns = 'Unnamed: 0')"
      ],
      "execution_count": null,
      "outputs": []
    },
    {
      "cell_type": "markdown",
      "metadata": {
        "id": "0ye07CCJh_Iy"
      },
      "source": [
        "## Setup and Inspect the Data"
      ]
    },
    {
      "cell_type": "code",
      "metadata": {
        "id": "TRv4nhX3L5k9",
        "colab": {
          "base_uri": "https://localhost:8080/"
        },
        "outputId": "2bdd8655-e3f4-476a-f50f-f72830876ed0"
      },
      "source": [
        "frequency = arrowDF['mfr'].value_counts()\n",
        "frequency"
      ],
      "execution_count": null,
      "outputs": [
        {
          "output_type": "execute_result",
          "data": {
            "text/plain": [
              "mfr_item10     8886\n",
              "mfr_item4      3126\n",
              "mfr_item0      2998\n",
              "mfr_item17     2606\n",
              "mfr_item9      2427\n",
              "               ... \n",
              "mfr_item250       1\n",
              "mfr_item296       1\n",
              "mfr_item218       1\n",
              "mfr_item237       1\n",
              "mfr_item252       1\n",
              "Name: mfr, Length: 337, dtype: int64"
            ]
          },
          "metadata": {
            "tags": []
          },
          "execution_count": 12
        }
      ]
    },
    {
      "cell_type": "code",
      "metadata": {
        "id": "6Hl0sYpPMAK5",
        "colab": {
          "base_uri": "https://localhost:8080/"
        },
        "outputId": "7563d149-a7d5-4dd3-d90d-07c70572c979"
      },
      "source": [
        "frequency = pd.DataFrame(frequency)\n",
        "sum(frequency['mfr'].head(18))/sum(frequency['mfr'])"
      ],
      "execution_count": null,
      "outputs": [
        {
          "output_type": "execute_result",
          "data": {
            "text/plain": [
              "0.6035400930800335"
            ]
          },
          "metadata": {
            "tags": []
          },
          "execution_count": 13
        }
      ]
    },
    {
      "cell_type": "code",
      "metadata": {
        "id": "TktkKf4-MC2u",
        "colab": {
          "base_uri": "https://localhost:8080/"
        },
        "outputId": "b2613e31-cfd0-4c79-9d44-00e1cc7c0ba9"
      },
      "source": [
        "frequencyList = list(frequency.head(18).index)\n",
        "frequencyList"
      ],
      "execution_count": null,
      "outputs": [
        {
          "output_type": "execute_result",
          "data": {
            "text/plain": [
              "['mfr_item10',\n",
              " 'mfr_item4',\n",
              " 'mfr_item0',\n",
              " 'mfr_item17',\n",
              " 'mfr_item9',\n",
              " 'mfr_item3',\n",
              " 'mfr_item7',\n",
              " 'mfr_item40',\n",
              " 'mfr_item6',\n",
              " 'mfr_item103',\n",
              " 'mfr_item37',\n",
              " 'mfr_item16',\n",
              " 'mfr_item30',\n",
              " 'mfr_item19',\n",
              " 'mfr_item69',\n",
              " 'mfr_item14',\n",
              " 'mfr_item18',\n",
              " 'mfr_item27']"
            ]
          },
          "metadata": {
            "tags": []
          },
          "execution_count": 14
        }
      ]
    },
    {
      "cell_type": "code",
      "metadata": {
        "id": "WI7LzhdzNECs",
        "colab": {
          "base_uri": "https://localhost:8080/",
          "height": 309
        },
        "outputId": "83e2a825-7547-4d1a-8b69-360343d25e9e"
      },
      "source": [
        "arrowDF2 = arrowDF[arrowDF['mfr'].isin(frequencyList)]\n",
        "arrowDF2.head()"
      ],
      "execution_count": null,
      "outputs": [
        {
          "output_type": "execute_result",
          "data": {
            "text/html": [
              "<div>\n",
              "<style scoped>\n",
              "    .dataframe tbody tr th:only-of-type {\n",
              "        vertical-align: middle;\n",
              "    }\n",
              "\n",
              "    .dataframe tbody tr th {\n",
              "        vertical-align: top;\n",
              "    }\n",
              "\n",
              "    .dataframe thead th {\n",
              "        text-align: right;\n",
              "    }\n",
              "</style>\n",
              "<table border=\"1\" class=\"dataframe\">\n",
              "  <thead>\n",
              "    <tr style=\"text-align: right;\">\n",
              "      <th></th>\n",
              "      <th>mfr</th>\n",
              "      <th>icc3</th>\n",
              "      <th>icc2</th>\n",
              "      <th>icc1</th>\n",
              "      <th>expected_leadtime</th>\n",
              "      <th>actualleadtime</th>\n",
              "      <th>mpn</th>\n",
              "      <th>PCA0</th>\n",
              "      <th>PCA1</th>\n",
              "      <th>PCA2</th>\n",
              "      <th>PCA3</th>\n",
              "      <th>PCA4</th>\n",
              "      <th>PCA5</th>\n",
              "      <th>PCA6</th>\n",
              "      <th>PCA7</th>\n",
              "      <th>PCA8</th>\n",
              "      <th>PCA9</th>\n",
              "      <th>PCA10</th>\n",
              "      <th>PCA11</th>\n",
              "      <th>PCA12</th>\n",
              "      <th>PCA13</th>\n",
              "      <th>PCA14</th>\n",
              "      <th>PCA15</th>\n",
              "      <th>PCA16</th>\n",
              "      <th>PCA17</th>\n",
              "      <th>PCA18</th>\n",
              "      <th>PCA19</th>\n",
              "      <th>PCA20</th>\n",
              "      <th>PCA21</th>\n",
              "      <th>PCA22</th>\n",
              "      <th>PCA23</th>\n",
              "      <th>PCA24</th>\n",
              "      <th>PCA25</th>\n",
              "      <th>PCA26</th>\n",
              "      <th>PCA27</th>\n",
              "      <th>PCA28</th>\n",
              "      <th>PCA29</th>\n",
              "      <th>PCA30</th>\n",
              "      <th>PCA31</th>\n",
              "      <th>PCA32</th>\n",
              "      <th>PCA33</th>\n",
              "      <th>PCA34</th>\n",
              "      <th>PCA35</th>\n",
              "      <th>PCA36</th>\n",
              "      <th>PCA37</th>\n",
              "      <th>PCA38</th>\n",
              "      <th>PCA39</th>\n",
              "      <th>PCA40</th>\n",
              "      <th>PCA41</th>\n",
              "    </tr>\n",
              "  </thead>\n",
              "  <tbody>\n",
              "    <tr>\n",
              "      <th>0</th>\n",
              "      <td>mfr_item0</td>\n",
              "      <td>icc3_item0</td>\n",
              "      <td>icc2_item0</td>\n",
              "      <td>icc1_item0</td>\n",
              "      <td>22</td>\n",
              "      <td>15</td>\n",
              "      <td>mpn_item0</td>\n",
              "      <td>-1.174946</td>\n",
              "      <td>-0.403428</td>\n",
              "      <td>0.810248</td>\n",
              "      <td>0.215991</td>\n",
              "      <td>0.003821</td>\n",
              "      <td>-0.065177</td>\n",
              "      <td>0.205518</td>\n",
              "      <td>0.299902</td>\n",
              "      <td>-0.040518</td>\n",
              "      <td>-0.007413</td>\n",
              "      <td>-0.080160</td>\n",
              "      <td>-0.017602</td>\n",
              "      <td>-0.113835</td>\n",
              "      <td>-0.182175</td>\n",
              "      <td>-0.045154</td>\n",
              "      <td>0.146770</td>\n",
              "      <td>0.041436</td>\n",
              "      <td>-0.004824</td>\n",
              "      <td>-0.069806</td>\n",
              "      <td>0.095916</td>\n",
              "      <td>-0.024806</td>\n",
              "      <td>0.014732</td>\n",
              "      <td>0.241382</td>\n",
              "      <td>0.130236</td>\n",
              "      <td>0.021880</td>\n",
              "      <td>0.049609</td>\n",
              "      <td>0.038993</td>\n",
              "      <td>0.009823</td>\n",
              "      <td>0.034843</td>\n",
              "      <td>-0.062368</td>\n",
              "      <td>-0.038443</td>\n",
              "      <td>0.054939</td>\n",
              "      <td>-0.020105</td>\n",
              "      <td>-0.003368</td>\n",
              "      <td>-0.018590</td>\n",
              "      <td>1.913301e-16</td>\n",
              "      <td>-2.232411e-17</td>\n",
              "      <td>6.222737e-17</td>\n",
              "      <td>-3.373274e-17</td>\n",
              "      <td>-7.943787e-17</td>\n",
              "      <td>2.051449e-17</td>\n",
              "      <td>9.597281e-17</td>\n",
              "    </tr>\n",
              "    <tr>\n",
              "      <th>1</th>\n",
              "      <td>mfr_item0</td>\n",
              "      <td>icc3_item0</td>\n",
              "      <td>icc2_item0</td>\n",
              "      <td>icc1_item0</td>\n",
              "      <td>20</td>\n",
              "      <td>8</td>\n",
              "      <td>mpn_item1</td>\n",
              "      <td>-1.330728</td>\n",
              "      <td>-0.375666</td>\n",
              "      <td>0.734416</td>\n",
              "      <td>0.218536</td>\n",
              "      <td>0.007240</td>\n",
              "      <td>-0.175244</td>\n",
              "      <td>0.049042</td>\n",
              "      <td>0.099806</td>\n",
              "      <td>-0.100697</td>\n",
              "      <td>0.024944</td>\n",
              "      <td>-0.373073</td>\n",
              "      <td>-0.045814</td>\n",
              "      <td>-0.056477</td>\n",
              "      <td>-0.887104</td>\n",
              "      <td>-0.104143</td>\n",
              "      <td>0.407433</td>\n",
              "      <td>0.207123</td>\n",
              "      <td>0.269722</td>\n",
              "      <td>-0.021335</td>\n",
              "      <td>-0.052379</td>\n",
              "      <td>0.080534</td>\n",
              "      <td>-0.082654</td>\n",
              "      <td>-0.009491</td>\n",
              "      <td>0.098660</td>\n",
              "      <td>0.038703</td>\n",
              "      <td>0.051741</td>\n",
              "      <td>-0.013583</td>\n",
              "      <td>0.014525</td>\n",
              "      <td>-0.002262</td>\n",
              "      <td>-0.070955</td>\n",
              "      <td>-0.046545</td>\n",
              "      <td>-0.009958</td>\n",
              "      <td>-0.003578</td>\n",
              "      <td>-0.008241</td>\n",
              "      <td>0.005415</td>\n",
              "      <td>6.653302e-17</td>\n",
              "      <td>3.992338e-17</td>\n",
              "      <td>2.284957e-17</td>\n",
              "      <td>-1.007732e-16</td>\n",
              "      <td>4.666063e-17</td>\n",
              "      <td>6.117001e-17</td>\n",
              "      <td>7.838461e-17</td>\n",
              "    </tr>\n",
              "    <tr>\n",
              "      <th>2</th>\n",
              "      <td>mfr_item0</td>\n",
              "      <td>icc3_item0</td>\n",
              "      <td>icc2_item0</td>\n",
              "      <td>icc1_item0</td>\n",
              "      <td>29</td>\n",
              "      <td>24</td>\n",
              "      <td>mpn_item2</td>\n",
              "      <td>-1.408653</td>\n",
              "      <td>-0.358471</td>\n",
              "      <td>0.745194</td>\n",
              "      <td>0.231599</td>\n",
              "      <td>0.008366</td>\n",
              "      <td>-0.121095</td>\n",
              "      <td>0.170981</td>\n",
              "      <td>0.445013</td>\n",
              "      <td>0.024451</td>\n",
              "      <td>-0.026001</td>\n",
              "      <td>0.169235</td>\n",
              "      <td>-0.017426</td>\n",
              "      <td>0.020527</td>\n",
              "      <td>0.145947</td>\n",
              "      <td>-0.005541</td>\n",
              "      <td>-0.048399</td>\n",
              "      <td>0.072314</td>\n",
              "      <td>0.109221</td>\n",
              "      <td>-0.022875</td>\n",
              "      <td>0.012557</td>\n",
              "      <td>0.061666</td>\n",
              "      <td>-0.087305</td>\n",
              "      <td>0.027153</td>\n",
              "      <td>0.046812</td>\n",
              "      <td>0.005431</td>\n",
              "      <td>0.004827</td>\n",
              "      <td>0.010242</td>\n",
              "      <td>0.009830</td>\n",
              "      <td>0.009564</td>\n",
              "      <td>0.000274</td>\n",
              "      <td>-0.018409</td>\n",
              "      <td>0.009750</td>\n",
              "      <td>0.004481</td>\n",
              "      <td>-0.004457</td>\n",
              "      <td>0.007975</td>\n",
              "      <td>1.195541e-17</td>\n",
              "      <td>-8.070977e-18</td>\n",
              "      <td>2.878232e-17</td>\n",
              "      <td>-1.358620e-17</td>\n",
              "      <td>-2.305384e-17</td>\n",
              "      <td>4.956489e-17</td>\n",
              "      <td>5.866807e-18</td>\n",
              "    </tr>\n",
              "    <tr>\n",
              "      <th>3</th>\n",
              "      <td>mfr_item0</td>\n",
              "      <td>icc3_item0</td>\n",
              "      <td>icc2_item0</td>\n",
              "      <td>icc1_item0</td>\n",
              "      <td>29</td>\n",
              "      <td>14</td>\n",
              "      <td>mpn_item3</td>\n",
              "      <td>-1.220221</td>\n",
              "      <td>-0.376939</td>\n",
              "      <td>0.756570</td>\n",
              "      <td>0.214228</td>\n",
              "      <td>0.005685</td>\n",
              "      <td>-0.131327</td>\n",
              "      <td>0.157541</td>\n",
              "      <td>0.206358</td>\n",
              "      <td>-0.051941</td>\n",
              "      <td>0.005890</td>\n",
              "      <td>-0.225218</td>\n",
              "      <td>-0.032813</td>\n",
              "      <td>-0.129289</td>\n",
              "      <td>-0.537969</td>\n",
              "      <td>-0.065728</td>\n",
              "      <td>0.280753</td>\n",
              "      <td>0.125759</td>\n",
              "      <td>0.118543</td>\n",
              "      <td>-0.057094</td>\n",
              "      <td>0.063039</td>\n",
              "      <td>0.022790</td>\n",
              "      <td>-0.037352</td>\n",
              "      <td>0.141052</td>\n",
              "      <td>0.134637</td>\n",
              "      <td>0.031110</td>\n",
              "      <td>0.006709</td>\n",
              "      <td>0.005382</td>\n",
              "      <td>0.006348</td>\n",
              "      <td>0.009572</td>\n",
              "      <td>-0.011692</td>\n",
              "      <td>-0.018752</td>\n",
              "      <td>0.022924</td>\n",
              "      <td>-0.014351</td>\n",
              "      <td>-0.006275</td>\n",
              "      <td>0.001166</td>\n",
              "      <td>2.358487e-16</td>\n",
              "      <td>6.590460e-18</td>\n",
              "      <td>4.027744e-17</td>\n",
              "      <td>-6.463125e-17</td>\n",
              "      <td>-1.102957e-17</td>\n",
              "      <td>5.464567e-18</td>\n",
              "      <td>8.719049e-17</td>\n",
              "    </tr>\n",
              "    <tr>\n",
              "      <th>6</th>\n",
              "      <td>mfr_item0</td>\n",
              "      <td>icc3_item0</td>\n",
              "      <td>icc2_item0</td>\n",
              "      <td>icc1_item0</td>\n",
              "      <td>20</td>\n",
              "      <td>2</td>\n",
              "      <td>mpn_item6</td>\n",
              "      <td>-1.433350</td>\n",
              "      <td>-0.359800</td>\n",
              "      <td>0.766970</td>\n",
              "      <td>0.237394</td>\n",
              "      <td>0.006382</td>\n",
              "      <td>-0.080985</td>\n",
              "      <td>0.174022</td>\n",
              "      <td>0.401849</td>\n",
              "      <td>0.069397</td>\n",
              "      <td>-0.025626</td>\n",
              "      <td>0.111609</td>\n",
              "      <td>-0.009596</td>\n",
              "      <td>-0.117677</td>\n",
              "      <td>0.158214</td>\n",
              "      <td>0.023140</td>\n",
              "      <td>-0.047655</td>\n",
              "      <td>0.039355</td>\n",
              "      <td>0.054083</td>\n",
              "      <td>-0.030173</td>\n",
              "      <td>0.015012</td>\n",
              "      <td>0.041469</td>\n",
              "      <td>-0.068194</td>\n",
              "      <td>0.007314</td>\n",
              "      <td>0.039451</td>\n",
              "      <td>0.011591</td>\n",
              "      <td>0.043217</td>\n",
              "      <td>0.010300</td>\n",
              "      <td>0.011485</td>\n",
              "      <td>0.009609</td>\n",
              "      <td>-0.055956</td>\n",
              "      <td>-0.038019</td>\n",
              "      <td>-0.014139</td>\n",
              "      <td>0.010816</td>\n",
              "      <td>-0.007333</td>\n",
              "      <td>0.007349</td>\n",
              "      <td>-5.743938e-17</td>\n",
              "      <td>8.551771e-18</td>\n",
              "      <td>3.582364e-17</td>\n",
              "      <td>-1.238643e-17</td>\n",
              "      <td>-6.659102e-17</td>\n",
              "      <td>4.263336e-17</td>\n",
              "      <td>-4.552081e-18</td>\n",
              "    </tr>\n",
              "  </tbody>\n",
              "</table>\n",
              "</div>"
            ],
            "text/plain": [
              "         mfr        icc3        icc2  ...         PCA39         PCA40         PCA41\n",
              "0  mfr_item0  icc3_item0  icc2_item0  ... -7.943787e-17  2.051449e-17  9.597281e-17\n",
              "1  mfr_item0  icc3_item0  icc2_item0  ...  4.666063e-17  6.117001e-17  7.838461e-17\n",
              "2  mfr_item0  icc3_item0  icc2_item0  ... -2.305384e-17  4.956489e-17  5.866807e-18\n",
              "3  mfr_item0  icc3_item0  icc2_item0  ... -1.102957e-17  5.464567e-18  8.719049e-17\n",
              "6  mfr_item0  icc3_item0  icc2_item0  ... -6.659102e-17  4.263336e-17 -4.552081e-18\n",
              "\n",
              "[5 rows x 49 columns]"
            ]
          },
          "metadata": {
            "tags": []
          },
          "execution_count": 15
        }
      ]
    },
    {
      "cell_type": "code",
      "metadata": {
        "colab": {
          "base_uri": "https://localhost:8080/"
        },
        "id": "MamFP3h_Nm5U",
        "outputId": "714b6ef0-0806-4d80-e593-3bec797d8c4c"
      },
      "source": [
        "print(len(arrowDF2['mfr'].unique()))\n",
        "print(len(arrowDF2['icc3'].unique()))\n",
        "print(len(arrowDF2['icc2'].unique()))\n",
        "print(len(arrowDF2['icc1'].unique()))"
      ],
      "execution_count": null,
      "outputs": [
        {
          "output_type": "stream",
          "text": [
            "18\n",
            "362\n",
            "50\n",
            "10\n"
          ],
          "name": "stdout"
        }
      ]
    },
    {
      "cell_type": "code",
      "metadata": {
        "colab": {
          "base_uri": "https://localhost:8080/"
        },
        "id": "yox5S4lmyxlC",
        "outputId": "ada20271-268d-405d-f3ac-e1f0950a0594"
      },
      "source": [
        "print(len(arrowDF['mfr'].unique()))\n",
        "print(len(arrowDF['icc3'].unique()))\n",
        "print(len(arrowDF['icc2'].unique()))\n",
        "print(len(arrowDF['icc1'].unique()))"
      ],
      "execution_count": null,
      "outputs": [
        {
          "output_type": "stream",
          "text": [
            "337\n",
            "506\n",
            "62\n",
            "10\n"
          ],
          "name": "stdout"
        }
      ]
    },
    {
      "cell_type": "markdown",
      "metadata": {
        "id": "64vtCiVKh0UQ"
      },
      "source": [
        "## Select Features and Target, Test and Split Data "
      ]
    },
    {
      "cell_type": "code",
      "metadata": {
        "id": "aSgesZCCaGH9"
      },
      "source": [
        "features_imp = ['mfr','icc1','icc2','PCA0','PCA1','PCA3','PCA4','PCA5','PCA7','PCA8','PCA19','PCA21','PCA33']"
      ],
      "execution_count": null,
      "outputs": []
    },
    {
      "cell_type": "code",
      "metadata": {
        "colab": {
          "base_uri": "https://localhost:8080/",
          "height": 204
        },
        "id": "znspLzT94DBP",
        "outputId": "8cc8c320-e85c-4251-e292-6323be5a335a"
      },
      "source": [
        "X = arrowDF2[features_imp]\n",
        "X.head()"
      ],
      "execution_count": null,
      "outputs": [
        {
          "output_type": "execute_result",
          "data": {
            "text/html": [
              "<div>\n",
              "<style scoped>\n",
              "    .dataframe tbody tr th:only-of-type {\n",
              "        vertical-align: middle;\n",
              "    }\n",
              "\n",
              "    .dataframe tbody tr th {\n",
              "        vertical-align: top;\n",
              "    }\n",
              "\n",
              "    .dataframe thead th {\n",
              "        text-align: right;\n",
              "    }\n",
              "</style>\n",
              "<table border=\"1\" class=\"dataframe\">\n",
              "  <thead>\n",
              "    <tr style=\"text-align: right;\">\n",
              "      <th></th>\n",
              "      <th>mfr</th>\n",
              "      <th>icc1</th>\n",
              "      <th>icc2</th>\n",
              "      <th>PCA0</th>\n",
              "      <th>PCA1</th>\n",
              "      <th>PCA3</th>\n",
              "      <th>PCA4</th>\n",
              "      <th>PCA5</th>\n",
              "      <th>PCA7</th>\n",
              "      <th>PCA8</th>\n",
              "      <th>PCA19</th>\n",
              "      <th>PCA21</th>\n",
              "      <th>PCA33</th>\n",
              "    </tr>\n",
              "  </thead>\n",
              "  <tbody>\n",
              "    <tr>\n",
              "      <th>0</th>\n",
              "      <td>mfr_item0</td>\n",
              "      <td>icc1_item0</td>\n",
              "      <td>icc2_item0</td>\n",
              "      <td>-1.174946</td>\n",
              "      <td>-0.403428</td>\n",
              "      <td>0.215991</td>\n",
              "      <td>0.003821</td>\n",
              "      <td>-0.065177</td>\n",
              "      <td>0.299902</td>\n",
              "      <td>-0.040518</td>\n",
              "      <td>0.095916</td>\n",
              "      <td>0.014732</td>\n",
              "      <td>-0.003368</td>\n",
              "    </tr>\n",
              "    <tr>\n",
              "      <th>1</th>\n",
              "      <td>mfr_item0</td>\n",
              "      <td>icc1_item0</td>\n",
              "      <td>icc2_item0</td>\n",
              "      <td>-1.330728</td>\n",
              "      <td>-0.375666</td>\n",
              "      <td>0.218536</td>\n",
              "      <td>0.007240</td>\n",
              "      <td>-0.175244</td>\n",
              "      <td>0.099806</td>\n",
              "      <td>-0.100697</td>\n",
              "      <td>-0.052379</td>\n",
              "      <td>-0.082654</td>\n",
              "      <td>-0.008241</td>\n",
              "    </tr>\n",
              "    <tr>\n",
              "      <th>2</th>\n",
              "      <td>mfr_item0</td>\n",
              "      <td>icc1_item0</td>\n",
              "      <td>icc2_item0</td>\n",
              "      <td>-1.408653</td>\n",
              "      <td>-0.358471</td>\n",
              "      <td>0.231599</td>\n",
              "      <td>0.008366</td>\n",
              "      <td>-0.121095</td>\n",
              "      <td>0.445013</td>\n",
              "      <td>0.024451</td>\n",
              "      <td>0.012557</td>\n",
              "      <td>-0.087305</td>\n",
              "      <td>-0.004457</td>\n",
              "    </tr>\n",
              "    <tr>\n",
              "      <th>3</th>\n",
              "      <td>mfr_item0</td>\n",
              "      <td>icc1_item0</td>\n",
              "      <td>icc2_item0</td>\n",
              "      <td>-1.220221</td>\n",
              "      <td>-0.376939</td>\n",
              "      <td>0.214228</td>\n",
              "      <td>0.005685</td>\n",
              "      <td>-0.131327</td>\n",
              "      <td>0.206358</td>\n",
              "      <td>-0.051941</td>\n",
              "      <td>0.063039</td>\n",
              "      <td>-0.037352</td>\n",
              "      <td>-0.006275</td>\n",
              "    </tr>\n",
              "    <tr>\n",
              "      <th>6</th>\n",
              "      <td>mfr_item0</td>\n",
              "      <td>icc1_item0</td>\n",
              "      <td>icc2_item0</td>\n",
              "      <td>-1.433350</td>\n",
              "      <td>-0.359800</td>\n",
              "      <td>0.237394</td>\n",
              "      <td>0.006382</td>\n",
              "      <td>-0.080985</td>\n",
              "      <td>0.401849</td>\n",
              "      <td>0.069397</td>\n",
              "      <td>0.015012</td>\n",
              "      <td>-0.068194</td>\n",
              "      <td>-0.007333</td>\n",
              "    </tr>\n",
              "  </tbody>\n",
              "</table>\n",
              "</div>"
            ],
            "text/plain": [
              "         mfr        icc1        icc2  ...     PCA19     PCA21     PCA33\n",
              "0  mfr_item0  icc1_item0  icc2_item0  ...  0.095916  0.014732 -0.003368\n",
              "1  mfr_item0  icc1_item0  icc2_item0  ... -0.052379 -0.082654 -0.008241\n",
              "2  mfr_item0  icc1_item0  icc2_item0  ...  0.012557 -0.087305 -0.004457\n",
              "3  mfr_item0  icc1_item0  icc2_item0  ...  0.063039 -0.037352 -0.006275\n",
              "6  mfr_item0  icc1_item0  icc2_item0  ...  0.015012 -0.068194 -0.007333\n",
              "\n",
              "[5 rows x 13 columns]"
            ]
          },
          "metadata": {
            "tags": []
          },
          "execution_count": 19
        }
      ]
    },
    {
      "cell_type": "code",
      "metadata": {
        "colab": {
          "base_uri": "https://localhost:8080/"
        },
        "id": "40CAd0s94d5n",
        "outputId": "ca2ee07c-4408-41fd-964b-9672313c799b"
      },
      "source": [
        "y = arrowDF2['actualleadtime'].copy()\n",
        "y.head()"
      ],
      "execution_count": null,
      "outputs": [
        {
          "output_type": "execute_result",
          "data": {
            "text/plain": [
              "0    15\n",
              "1     8\n",
              "2    24\n",
              "3    14\n",
              "6     2\n",
              "Name: actualleadtime, dtype: int64"
            ]
          },
          "metadata": {
            "tags": []
          },
          "execution_count": 20
        }
      ]
    },
    {
      "cell_type": "code",
      "metadata": {
        "colab": {
          "base_uri": "https://localhost:8080/"
        },
        "id": "QyohMmJW6m9v",
        "outputId": "b602a9b4-3528-4fd3-da11-5ff35f58f928"
      },
      "source": [
        "X_encoded = pd.get_dummies(X, columns=['icc1','icc2','mfr'])\n",
        "X_encoded.head()\n",
        "len(X_encoded)"
      ],
      "execution_count": null,
      "outputs": [
        {
          "output_type": "execute_result",
          "data": {
            "text/plain": [
              "39553"
            ]
          },
          "metadata": {
            "tags": []
          },
          "execution_count": 21
        }
      ]
    },
    {
      "cell_type": "code",
      "metadata": {
        "id": "wPHcfzi76Rf9"
      },
      "source": [
        "X_train, X_test, y_train, y_test = train_test_split(X_encoded, y, train_size=.80, test_size=.20, random_state=123) "
      ],
      "execution_count": null,
      "outputs": []
    },
    {
      "cell_type": "code",
      "metadata": {
        "colab": {
          "base_uri": "https://localhost:8080/"
        },
        "id": "9ECTRUlOMN9Y",
        "outputId": "f5fef537-e170-4773-f2b5-6b9124674034"
      },
      "source": [
        "print(len(X_train))\n",
        "print(len(X_test))\n"
      ],
      "execution_count": null,
      "outputs": [
        {
          "output_type": "stream",
          "text": [
            "31642\n",
            "7911\n"
          ],
          "name": "stdout"
        }
      ]
    },
    {
      "cell_type": "markdown",
      "metadata": {
        "id": "QvtuzdzKhkey"
      },
      "source": [
        "## Explore: Basic Model Buildling, Trying Different Combos of Data/Variables"
      ]
    },
    {
      "cell_type": "markdown",
      "metadata": {
        "id": "net4X1JqHWV3"
      },
      "source": [
        "Base Model -- Kitchen Sink\n",
        "Data: All, Variables: All except MFR, Split: 80/20, RMSE: 6.994, MAE: 5.532"
      ]
    },
    {
      "cell_type": "code",
      "metadata": {
        "colab": {
          "base_uri": "https://localhost:8080/"
        },
        "id": "Jbf4knmQTIaA",
        "outputId": "096afef6-d7b6-4500-dce4-e98ed5db6b9f"
      },
      "source": [
        "xgb_model1 = XGBRegressor()\n",
        "xgb_model1.fit(X_train, y_train)"
      ],
      "execution_count": null,
      "outputs": [
        {
          "output_type": "stream",
          "text": [
            "[22:27:44] WARNING: /workspace/src/objective/regression_obj.cu:152: reg:linear is now deprecated in favor of reg:squarederror.\n"
          ],
          "name": "stdout"
        },
        {
          "output_type": "execute_result",
          "data": {
            "text/plain": [
              "XGBRegressor(base_score=0.5, booster='gbtree', colsample_bylevel=1,\n",
              "             colsample_bynode=1, colsample_bytree=1, gamma=0,\n",
              "             importance_type='gain', learning_rate=0.1, max_delta_step=0,\n",
              "             max_depth=3, min_child_weight=1, missing=None, n_estimators=100,\n",
              "             n_jobs=1, nthread=None, objective='reg:linear', random_state=0,\n",
              "             reg_alpha=0, reg_lambda=1, scale_pos_weight=1, seed=None,\n",
              "             silent=None, subsample=1, verbosity=1)"
            ]
          },
          "metadata": {
            "tags": []
          },
          "execution_count": 23
        }
      ]
    },
    {
      "cell_type": "code",
      "metadata": {
        "colab": {
          "base_uri": "https://localhost:8080/"
        },
        "id": "zWRJjmjzRYEz",
        "outputId": "3598ae8a-d329-4aa3-b906-bfb54f9d86eb"
      },
      "source": [
        "preds = xgb_model1.predict(X_test)\n",
        "rmse = np.sqrt(mean_squared_error(y_test, preds))\n",
        "print(\"RMSE: %f\" % (rmse))\n",
        "print(\"Mean Absolute Error : \" + str(mean_absolute_error(preds, y_test)))"
      ],
      "execution_count": null,
      "outputs": [
        {
          "output_type": "stream",
          "text": [
            "RMSE: 7.177400\n",
            "Mean Absolute Error : 5.6423558216453005\n"
          ],
          "name": "stdout"
        }
      ]
    },
    {
      "cell_type": "markdown",
      "metadata": {
        "id": "oW515G5DLWe_"
      },
      "source": [
        "Model Using Important Variables -- Scree -- Data: All excpet MFR, Split: 80/20\n",
        "RMSE: 7.299736\n",
        "MAE: 5.907082"
      ]
    },
    {
      "cell_type": "code",
      "metadata": {
        "colab": {
          "base_uri": "https://localhost:8080/"
        },
        "id": "9wBYIkGgJ5xZ",
        "outputId": "dfb788cf-c5bd-47af-88c2-5471b97f5e59"
      },
      "source": [
        "xgb_model_2 = XGBRegressor()\n",
        "xgb_model_2.fit(X_train, y_train)"
      ],
      "execution_count": null,
      "outputs": [
        {
          "output_type": "stream",
          "text": [
            "[22:27:51] WARNING: /workspace/src/objective/regression_obj.cu:152: reg:linear is now deprecated in favor of reg:squarederror.\n"
          ],
          "name": "stdout"
        },
        {
          "output_type": "execute_result",
          "data": {
            "text/plain": [
              "XGBRegressor(base_score=0.5, booster='gbtree', colsample_bylevel=1,\n",
              "             colsample_bynode=1, colsample_bytree=1, gamma=0,\n",
              "             importance_type='gain', learning_rate=0.1, max_delta_step=0,\n",
              "             max_depth=3, min_child_weight=1, missing=None, n_estimators=100,\n",
              "             n_jobs=1, nthread=None, objective='reg:linear', random_state=0,\n",
              "             reg_alpha=0, reg_lambda=1, scale_pos_weight=1, seed=None,\n",
              "             silent=None, subsample=1, verbosity=1)"
            ]
          },
          "metadata": {
            "tags": []
          },
          "execution_count": 25
        }
      ]
    },
    {
      "cell_type": "code",
      "metadata": {
        "colab": {
          "base_uri": "https://localhost:8080/"
        },
        "id": "D1zvCFUFKOwk",
        "outputId": "6463fd04-e533-435a-c92c-81c080fcc1a8"
      },
      "source": [
        "preds_2 = xgb_model_2.predict(X_test)\n",
        "rmse = np.sqrt(mean_squared_error(y_test, preds_2))\n",
        "print(\"RMSE: %f\" % (rmse))\n",
        "print(\"Mean Absolute Error : \" + str(mean_absolute_error(preds_2, y_test)))"
      ],
      "execution_count": null,
      "outputs": [
        {
          "output_type": "stream",
          "text": [
            "RMSE: 7.177400\n",
            "Mean Absolute Error : 5.6423558216453005\n"
          ],
          "name": "stdout"
        }
      ]
    },
    {
      "cell_type": "markdown",
      "metadata": {
        "id": "Ag-u0O6yNQyO"
      },
      "source": [
        "1. Model Using Important Variables -- Imp_MFR_reduceddata -- Data: IMP MFR 60% excpet icc3, Split: 80/20 RMSE: 7.1774 MAE: 5.6435\n",
        "Use this model, even though its a little worse than the base, theres less variables/noise "
      ]
    },
    {
      "cell_type": "code",
      "metadata": {
        "colab": {
          "base_uri": "https://localhost:8080/"
        },
        "id": "ohIkdLq8MTA5",
        "outputId": "22bd554f-f03b-4d07-aa38-2f311f47de0c"
      },
      "source": [
        "xgb_model_3 = XGBRegressor()\n",
        "xgb_model_3.fit(X_train, y_train)"
      ],
      "execution_count": null,
      "outputs": [
        {
          "output_type": "stream",
          "text": [
            "[22:27:59] WARNING: /workspace/src/objective/regression_obj.cu:152: reg:linear is now deprecated in favor of reg:squarederror.\n"
          ],
          "name": "stdout"
        },
        {
          "output_type": "execute_result",
          "data": {
            "text/plain": [
              "XGBRegressor(base_score=0.5, booster='gbtree', colsample_bylevel=1,\n",
              "             colsample_bynode=1, colsample_bytree=1, gamma=0,\n",
              "             importance_type='gain', learning_rate=0.1, max_delta_step=0,\n",
              "             max_depth=3, min_child_weight=1, missing=None, n_estimators=100,\n",
              "             n_jobs=1, nthread=None, objective='reg:linear', random_state=0,\n",
              "             reg_alpha=0, reg_lambda=1, scale_pos_weight=1, seed=None,\n",
              "             silent=None, subsample=1, verbosity=1)"
            ]
          },
          "metadata": {
            "tags": []
          },
          "execution_count": 27
        }
      ]
    },
    {
      "cell_type": "code",
      "metadata": {
        "colab": {
          "base_uri": "https://localhost:8080/"
        },
        "id": "jXDA8qLOMU4G",
        "outputId": "ee5e2c05-fdff-4218-f907-1f03a8be90d9"
      },
      "source": [
        "preds_3 = xgb_model_3.predict(X_test)\n",
        "rmse = np.sqrt(mean_squared_error(y_test, preds_3))\n",
        "print(\"RMSE: %f\" % (rmse))\n",
        "print(\"Mean Absolute Error : \" + str(mean_absolute_error(preds_3, y_test)))"
      ],
      "execution_count": null,
      "outputs": [
        {
          "output_type": "stream",
          "text": [
            "RMSE: 7.177400\n",
            "Mean Absolute Error : 5.6423558216453005\n"
          ],
          "name": "stdout"
        }
      ]
    },
    {
      "cell_type": "markdown",
      "metadata": {
        "id": "ttyT_FhYUnUn"
      },
      "source": [
        "Model Using Important Variables -- Used 1cc1, icc2, mfr and imp variables  -- Data: IMP MFR 60% excpet icc3, Split: 90/10 RMSE: 7.23 MAE: 5.71"
      ]
    },
    {
      "cell_type": "code",
      "metadata": {
        "colab": {
          "base_uri": "https://localhost:8080/"
        },
        "id": "UB8DevSpUm_a",
        "outputId": "5272d7bc-e519-4bed-fc67-781e609a2ddd"
      },
      "source": [
        "xgb_model_4 = XGBRegressor()\n",
        "xgb_model_4.fit(X_train, y_train)"
      ],
      "execution_count": null,
      "outputs": [
        {
          "output_type": "stream",
          "text": [
            "[22:28:06] WARNING: /workspace/src/objective/regression_obj.cu:152: reg:linear is now deprecated in favor of reg:squarederror.\n"
          ],
          "name": "stdout"
        },
        {
          "output_type": "execute_result",
          "data": {
            "text/plain": [
              "XGBRegressor(base_score=0.5, booster='gbtree', colsample_bylevel=1,\n",
              "             colsample_bynode=1, colsample_bytree=1, gamma=0,\n",
              "             importance_type='gain', learning_rate=0.1, max_delta_step=0,\n",
              "             max_depth=3, min_child_weight=1, missing=None, n_estimators=100,\n",
              "             n_jobs=1, nthread=None, objective='reg:linear', random_state=0,\n",
              "             reg_alpha=0, reg_lambda=1, scale_pos_weight=1, seed=None,\n",
              "             silent=None, subsample=1, verbosity=1)"
            ]
          },
          "metadata": {
            "tags": []
          },
          "execution_count": 29
        }
      ]
    },
    {
      "cell_type": "code",
      "metadata": {
        "colab": {
          "base_uri": "https://localhost:8080/"
        },
        "id": "D_QGYoe_Umzh",
        "outputId": "7975d0c4-273a-4c13-daf5-00c58d8acf9c"
      },
      "source": [
        "preds_4 = xgb_model_4.predict(X_test)\n",
        "rmse = np.sqrt(mean_squared_error(y_test, preds_4))\n",
        "print(\"RMSE: %f\" % (rmse))\n",
        "print(\"Mean Absolute Error : \" + str(mean_absolute_error(preds_4, y_test)))"
      ],
      "execution_count": null,
      "outputs": [
        {
          "output_type": "stream",
          "text": [
            "RMSE: 7.177400\n",
            "Mean Absolute Error : 5.6423558216453005\n"
          ],
          "name": "stdout"
        }
      ]
    },
    {
      "cell_type": "markdown",
      "metadata": {
        "id": "roWbNbiHWXZ6"
      },
      "source": [
        "Model Using Important Variables -- Used scree features  -- Data: IMP MFR 60% excpet icc3, Split: 90/10 RMSE: 7.20 MAE: 5.6"
      ]
    },
    {
      "cell_type": "code",
      "metadata": {
        "colab": {
          "base_uri": "https://localhost:8080/"
        },
        "id": "57ZmBpZHVcxA",
        "outputId": "f03775e1-8c73-43b2-9ac9-089e0abe276a"
      },
      "source": [
        "xgb_model_5 = XGBRegressor()\n",
        "xgb_model_5.fit(X_train, y_train)"
      ],
      "execution_count": null,
      "outputs": [
        {
          "output_type": "stream",
          "text": [
            "[22:28:13] WARNING: /workspace/src/objective/regression_obj.cu:152: reg:linear is now deprecated in favor of reg:squarederror.\n"
          ],
          "name": "stdout"
        },
        {
          "output_type": "execute_result",
          "data": {
            "text/plain": [
              "XGBRegressor(base_score=0.5, booster='gbtree', colsample_bylevel=1,\n",
              "             colsample_bynode=1, colsample_bytree=1, gamma=0,\n",
              "             importance_type='gain', learning_rate=0.1, max_delta_step=0,\n",
              "             max_depth=3, min_child_weight=1, missing=None, n_estimators=100,\n",
              "             n_jobs=1, nthread=None, objective='reg:linear', random_state=0,\n",
              "             reg_alpha=0, reg_lambda=1, scale_pos_weight=1, seed=None,\n",
              "             silent=None, subsample=1, verbosity=1)"
            ]
          },
          "metadata": {
            "tags": []
          },
          "execution_count": 31
        }
      ]
    },
    {
      "cell_type": "code",
      "metadata": {
        "colab": {
          "base_uri": "https://localhost:8080/"
        },
        "id": "OHLxMnDyVcqP",
        "outputId": "b458a1c8-89ee-4761-e6ae-d60619977c7a"
      },
      "source": [
        "preds_5 = xgb_model_5.predict(X_test)\n",
        "rmse = np.sqrt(mean_squared_error(y_test, preds_5))\n",
        "print(\"RMSE: %f\" % (rmse))\n",
        "print(\"Mean Absolute Error : \" + str(mean_absolute_error(preds_5, y_test)))"
      ],
      "execution_count": null,
      "outputs": [
        {
          "output_type": "stream",
          "text": [
            "RMSE: 7.177400\n",
            "Mean Absolute Error : 5.6423558216453005\n"
          ],
          "name": "stdout"
        }
      ]
    },
    {
      "cell_type": "markdown",
      "metadata": {
        "id": "-PktF8ig9gcK"
      },
      "source": [
        "## 2. Hypertuning the parameters using RandomSearchCV\n"
      ]
    },
    {
      "cell_type": "code",
      "metadata": {
        "id": "ohy8I7HyC29p"
      },
      "source": [
        "param_tuning = {'learning_rate': [0.01, 0.03, 0.05, 0.07, 0.09, 0.1, 0.3],\n",
        "                'max_depth': [3, 5, 7, 10],\n",
        "                'n_estimators' : [100, 200, 500, 1000]\n",
        "                }\n",
        "\n",
        "gbm = xgb.XGBRegressor()"
      ],
      "execution_count": null,
      "outputs": []
    },
    {
      "cell_type": "code",
      "metadata": {
        "id": "yFo-QIDL_ZhR",
        "colab": {
          "base_uri": "https://localhost:8080/"
        },
        "outputId": "3e188fe2-065a-4311-c9bb-36b90a45574d"
      },
      "source": [
        "# Perform random search: grid_mse\n",
        "randomized_mse = RandomizedSearchCV(estimator=gbm, param_distributions=param_tuning,\n",
        "                                    n_iter=10, scoring='neg_mean_squared_error', cv=4, verbose=1)\n",
        "randomized_mse.fit(X_train, y_train)"
      ],
      "execution_count": null,
      "outputs": [
        {
          "output_type": "stream",
          "text": [
            "Fitting 4 folds for each of 10 candidates, totalling 40 fits\n",
            "[22:28:20] WARNING: /workspace/src/objective/regression_obj.cu:152: reg:linear is now deprecated in favor of reg:squarederror.\n"
          ],
          "name": "stdout"
        },
        {
          "output_type": "stream",
          "text": [
            "[Parallel(n_jobs=1)]: Using backend SequentialBackend with 1 concurrent workers.\n"
          ],
          "name": "stderr"
        },
        {
          "output_type": "stream",
          "text": [
            "[22:28:47] WARNING: /workspace/src/objective/regression_obj.cu:152: reg:linear is now deprecated in favor of reg:squarederror.\n",
            "[22:29:14] WARNING: /workspace/src/objective/regression_obj.cu:152: reg:linear is now deprecated in favor of reg:squarederror.\n",
            "[22:29:40] WARNING: /workspace/src/objective/regression_obj.cu:152: reg:linear is now deprecated in favor of reg:squarederror.\n",
            "[22:30:07] WARNING: /workspace/src/objective/regression_obj.cu:152: reg:linear is now deprecated in favor of reg:squarederror.\n",
            "[22:30:19] WARNING: /workspace/src/objective/regression_obj.cu:152: reg:linear is now deprecated in favor of reg:squarederror.\n",
            "[22:30:30] WARNING: /workspace/src/objective/regression_obj.cu:152: reg:linear is now deprecated in favor of reg:squarederror.\n",
            "[22:30:42] WARNING: /workspace/src/objective/regression_obj.cu:152: reg:linear is now deprecated in favor of reg:squarederror.\n",
            "[22:30:54] WARNING: /workspace/src/objective/regression_obj.cu:152: reg:linear is now deprecated in favor of reg:squarederror.\n",
            "[22:32:09] WARNING: /workspace/src/objective/regression_obj.cu:152: reg:linear is now deprecated in favor of reg:squarederror.\n",
            "[22:33:25] WARNING: /workspace/src/objective/regression_obj.cu:152: reg:linear is now deprecated in favor of reg:squarederror.\n",
            "[22:34:40] WARNING: /workspace/src/objective/regression_obj.cu:152: reg:linear is now deprecated in favor of reg:squarederror.\n",
            "[22:35:53] WARNING: /workspace/src/objective/regression_obj.cu:152: reg:linear is now deprecated in favor of reg:squarederror.\n",
            "[22:38:33] WARNING: /workspace/src/objective/regression_obj.cu:152: reg:linear is now deprecated in favor of reg:squarederror.\n",
            "[22:41:06] WARNING: /workspace/src/objective/regression_obj.cu:152: reg:linear is now deprecated in favor of reg:squarederror.\n",
            "[22:43:41] WARNING: /workspace/src/objective/regression_obj.cu:152: reg:linear is now deprecated in favor of reg:squarederror.\n",
            "[22:46:20] WARNING: /workspace/src/objective/regression_obj.cu:152: reg:linear is now deprecated in favor of reg:squarederror.\n",
            "[22:46:37] WARNING: /workspace/src/objective/regression_obj.cu:152: reg:linear is now deprecated in favor of reg:squarederror.\n",
            "[22:46:53] WARNING: /workspace/src/objective/regression_obj.cu:152: reg:linear is now deprecated in favor of reg:squarederror.\n",
            "[22:47:10] WARNING: /workspace/src/objective/regression_obj.cu:152: reg:linear is now deprecated in favor of reg:squarederror.\n",
            "[22:47:26] WARNING: /workspace/src/objective/regression_obj.cu:152: reg:linear is now deprecated in favor of reg:squarederror.\n",
            "[22:47:43] WARNING: /workspace/src/objective/regression_obj.cu:152: reg:linear is now deprecated in favor of reg:squarederror.\n",
            "[22:48:00] WARNING: /workspace/src/objective/regression_obj.cu:152: reg:linear is now deprecated in favor of reg:squarederror.\n",
            "[22:48:17] WARNING: /workspace/src/objective/regression_obj.cu:152: reg:linear is now deprecated in favor of reg:squarederror.\n",
            "[22:48:34] WARNING: /workspace/src/objective/regression_obj.cu:152: reg:linear is now deprecated in favor of reg:squarederror.\n",
            "[22:49:06] WARNING: /workspace/src/objective/regression_obj.cu:152: reg:linear is now deprecated in favor of reg:squarederror.\n",
            "[22:49:39] WARNING: /workspace/src/objective/regression_obj.cu:152: reg:linear is now deprecated in favor of reg:squarederror.\n",
            "[22:50:10] WARNING: /workspace/src/objective/regression_obj.cu:152: reg:linear is now deprecated in favor of reg:squarederror.\n",
            "[22:50:40] WARNING: /workspace/src/objective/regression_obj.cu:152: reg:linear is now deprecated in favor of reg:squarederror.\n",
            "[22:52:27] WARNING: /workspace/src/objective/regression_obj.cu:152: reg:linear is now deprecated in favor of reg:squarederror.\n",
            "[22:54:16] WARNING: /workspace/src/objective/regression_obj.cu:152: reg:linear is now deprecated in favor of reg:squarederror.\n",
            "[22:56:08] WARNING: /workspace/src/objective/regression_obj.cu:152: reg:linear is now deprecated in favor of reg:squarederror.\n",
            "[22:57:55] WARNING: /workspace/src/objective/regression_obj.cu:152: reg:linear is now deprecated in favor of reg:squarederror.\n",
            "[22:58:01] WARNING: /workspace/src/objective/regression_obj.cu:152: reg:linear is now deprecated in favor of reg:squarederror.\n",
            "[22:58:06] WARNING: /workspace/src/objective/regression_obj.cu:152: reg:linear is now deprecated in favor of reg:squarederror.\n",
            "[22:58:12] WARNING: /workspace/src/objective/regression_obj.cu:152: reg:linear is now deprecated in favor of reg:squarederror.\n",
            "[22:58:17] WARNING: /workspace/src/objective/regression_obj.cu:152: reg:linear is now deprecated in favor of reg:squarederror.\n",
            "[22:58:26] WARNING: /workspace/src/objective/regression_obj.cu:152: reg:linear is now deprecated in favor of reg:squarederror.\n",
            "[22:58:34] WARNING: /workspace/src/objective/regression_obj.cu:152: reg:linear is now deprecated in favor of reg:squarederror.\n",
            "[22:58:42] WARNING: /workspace/src/objective/regression_obj.cu:152: reg:linear is now deprecated in favor of reg:squarederror.\n"
          ],
          "name": "stdout"
        },
        {
          "output_type": "stream",
          "text": [
            "[Parallel(n_jobs=1)]: Done  40 out of  40 | elapsed: 30.5min finished\n"
          ],
          "name": "stderr"
        },
        {
          "output_type": "stream",
          "text": [
            "[22:58:51] WARNING: /workspace/src/objective/regression_obj.cu:152: reg:linear is now deprecated in favor of reg:squarederror.\n"
          ],
          "name": "stdout"
        },
        {
          "output_type": "execute_result",
          "data": {
            "text/plain": [
              "RandomizedSearchCV(cv=4, error_score=nan,\n",
              "                   estimator=XGBRegressor(base_score=0.5, booster='gbtree',\n",
              "                                          colsample_bylevel=1,\n",
              "                                          colsample_bynode=1,\n",
              "                                          colsample_bytree=1, gamma=0,\n",
              "                                          importance_type='gain',\n",
              "                                          learning_rate=0.1, max_delta_step=0,\n",
              "                                          max_depth=3, min_child_weight=1,\n",
              "                                          missing=None, n_estimators=100,\n",
              "                                          n_jobs=1, nthread=None,\n",
              "                                          objective='reg:linear',\n",
              "                                          random_state=0, reg_alpha=0,\n",
              "                                          reg_lambda=1, scale_pos_weight=1,\n",
              "                                          seed=None, silent=None, subsample=1,\n",
              "                                          verbosity=1),\n",
              "                   iid='deprecated', n_iter=10, n_jobs=None,\n",
              "                   param_distributions={'learning_rate': [0.01, 0.03, 0.05,\n",
              "                                                          0.07, 0.09, 0.1,\n",
              "                                                          0.3],\n",
              "                                        'max_depth': [3, 5, 7, 10],\n",
              "                                        'n_estimators': [100, 200, 500, 1000]},\n",
              "                   pre_dispatch='2*n_jobs', random_state=None, refit=True,\n",
              "                   return_train_score=False, scoring='neg_mean_squared_error',\n",
              "                   verbose=1)"
            ]
          },
          "metadata": {
            "tags": []
          },
          "execution_count": 34
        }
      ]
    },
    {
      "cell_type": "code",
      "metadata": {
        "colab": {
          "base_uri": "https://localhost:8080/"
        },
        "id": "cBB6f67A_lRo",
        "outputId": "400267d9-1447-4a79-a032-4c28264decff"
      },
      "source": [
        "# Print the best parameters and lowest RMSE\n",
        "print(\"Best parameters found: \",randomized_mse.best_params_)\n",
        "print(\"Lowest RMSE found: \", np.sqrt(np.abs(randomized_mse.best_score_)))"
      ],
      "execution_count": null,
      "outputs": [
        {
          "output_type": "stream",
          "text": [
            "Best parameters found:  {'n_estimators': 100, 'max_depth': 10, 'learning_rate': 0.07}\n",
            "Lowest RMSE found:  6.910048736266091\n"
          ],
          "name": "stdout"
        }
      ]
    },
    {
      "cell_type": "markdown",
      "metadata": {
        "id": "qbWKua_IiTIj"
      },
      "source": [
        "Make predictions using the test data, should be better than the training metrics"
      ]
    },
    {
      "cell_type": "markdown",
      "metadata": {
        "id": "i1_e8Ox3g5Y0"
      },
      "source": [
        "## 3. Plug Optimal Values Found Above Into Model\n"
      ]
    },
    {
      "cell_type": "code",
      "metadata": {
        "colab": {
          "base_uri": "https://localhost:8080/"
        },
        "id": "LRQ3JjltfxNb",
        "outputId": "b7c2d6fb-5612-4cf0-d4d1-fea72b1c31de"
      },
      "source": [
        "model_final = XGBRegressor(n_estimators=200, learning_rate=0.05, max_depth=10)\n",
        "model_final.fit(X_train, y_train, \n",
        "             early_stopping_rounds=5, \n",
        "             eval_set=[(X_test, y_test)], \n",
        "             verbose=False)"
      ],
      "execution_count": null,
      "outputs": [
        {
          "output_type": "stream",
          "text": [
            "[22:59:13] WARNING: /workspace/src/objective/regression_obj.cu:152: reg:linear is now deprecated in favor of reg:squarederror.\n"
          ],
          "name": "stdout"
        },
        {
          "output_type": "execute_result",
          "data": {
            "text/plain": [
              "XGBRegressor(base_score=0.5, booster='gbtree', colsample_bylevel=1,\n",
              "             colsample_bynode=1, colsample_bytree=1, gamma=0,\n",
              "             importance_type='gain', learning_rate=0.05, max_delta_step=0,\n",
              "             max_depth=10, min_child_weight=1, missing=None, n_estimators=200,\n",
              "             n_jobs=1, nthread=None, objective='reg:linear', random_state=0,\n",
              "             reg_alpha=0, reg_lambda=1, scale_pos_weight=1, seed=None,\n",
              "             silent=None, subsample=1, verbosity=1)"
            ]
          },
          "metadata": {
            "tags": []
          },
          "execution_count": 37
        }
      ]
    },
    {
      "cell_type": "code",
      "metadata": {
        "colab": {
          "base_uri": "https://localhost:8080/"
        },
        "id": "LC8MIqu-gfjh",
        "outputId": "9a73d880-2c26-40df-aaf0-e2b7ebade5b2"
      },
      "source": [
        "preds_final = model_final.predict(X_test)\n",
        "rmse = np.sqrt(mean_squared_error(y_test, preds_final))\n",
        "print(\"RMSE: %f\" % (rmse))\n",
        "print(\"Mean Absolute Error : \" + str(mean_absolute_error(preds_final, y_test)))"
      ],
      "execution_count": null,
      "outputs": [
        {
          "output_type": "stream",
          "text": [
            "RMSE: 6.807029\n",
            "Mean Absolute Error : 5.236327932691954\n"
          ],
          "name": "stdout"
        }
      ]
    },
    {
      "cell_type": "markdown",
      "metadata": {
        "id": "qbx7n8X2m7m2"
      },
      "source": [
        "Create final dataframe used for economic impact "
      ]
    },
    {
      "cell_type": "code",
      "metadata": {
        "colab": {
          "base_uri": "https://localhost:8080/"
        },
        "id": "6_OZPKu3QCv6",
        "outputId": "5bbda303-7428-47cd-97a8-35d63845e595"
      },
      "source": [
        "X_test['Predictions'] = preds_final\n",
        "X_test\n",
        "X_test_short = X_test.iloc[:,-1:]\n",
        "X_test_short\n",
        "\n",
        "final_df_mini = X_test.join(arrowDF2['expected_leadtime'])\n",
        "final_df = pd.concat([X_test_short, arrowDF2], axis=1, sort=False)\n",
        "final_df.dropna(inplace=True)\n"
      ],
      "execution_count": null,
      "outputs": [
        {
          "output_type": "stream",
          "text": [
            "/usr/local/lib/python3.7/dist-packages/ipykernel_launcher.py:1: SettingWithCopyWarning: \n",
            "A value is trying to be set on a copy of a slice from a DataFrame.\n",
            "Try using .loc[row_indexer,col_indexer] = value instead\n",
            "\n",
            "See the caveats in the documentation: https://pandas.pydata.org/pandas-docs/stable/user_guide/indexing.html#returning-a-view-versus-a-copy\n",
            "  \"\"\"Entry point for launching an IPython kernel.\n"
          ],
          "name": "stderr"
        }
      ]
    },
    {
      "cell_type": "code",
      "metadata": {
        "colab": {
          "base_uri": "https://localhost:8080/",
          "height": 419
        },
        "id": "wMQZ44d1SQEN",
        "outputId": "a57057cd-c53e-4307-ed68-1aa9c7816b77"
      },
      "source": [
        "final_df = final_df[['Predictions', 'actualleadtime', 'expected_leadtime']]\n",
        "final_df"
      ],
      "execution_count": null,
      "outputs": [
        {
          "output_type": "execute_result",
          "data": {
            "text/html": [
              "<div>\n",
              "<style scoped>\n",
              "    .dataframe tbody tr th:only-of-type {\n",
              "        vertical-align: middle;\n",
              "    }\n",
              "\n",
              "    .dataframe tbody tr th {\n",
              "        vertical-align: top;\n",
              "    }\n",
              "\n",
              "    .dataframe thead th {\n",
              "        text-align: right;\n",
              "    }\n",
              "</style>\n",
              "<table border=\"1\" class=\"dataframe\">\n",
              "  <thead>\n",
              "    <tr style=\"text-align: right;\">\n",
              "      <th></th>\n",
              "      <th>Predictions</th>\n",
              "      <th>actualleadtime</th>\n",
              "      <th>expected_leadtime</th>\n",
              "    </tr>\n",
              "  </thead>\n",
              "  <tbody>\n",
              "    <tr>\n",
              "      <th>1</th>\n",
              "      <td>9.004291</td>\n",
              "      <td>8</td>\n",
              "      <td>20</td>\n",
              "    </tr>\n",
              "    <tr>\n",
              "      <th>17</th>\n",
              "      <td>3.317213</td>\n",
              "      <td>2</td>\n",
              "      <td>2</td>\n",
              "    </tr>\n",
              "    <tr>\n",
              "      <th>21</th>\n",
              "      <td>4.532260</td>\n",
              "      <td>2</td>\n",
              "      <td>2</td>\n",
              "    </tr>\n",
              "    <tr>\n",
              "      <th>22</th>\n",
              "      <td>2.033150</td>\n",
              "      <td>3</td>\n",
              "      <td>2</td>\n",
              "    </tr>\n",
              "    <tr>\n",
              "      <th>28</th>\n",
              "      <td>14.324252</td>\n",
              "      <td>22</td>\n",
              "      <td>10</td>\n",
              "    </tr>\n",
              "    <tr>\n",
              "      <th>...</th>\n",
              "      <td>...</td>\n",
              "      <td>...</td>\n",
              "      <td>...</td>\n",
              "    </tr>\n",
              "    <tr>\n",
              "      <th>65492</th>\n",
              "      <td>4.092854</td>\n",
              "      <td>2</td>\n",
              "      <td>2</td>\n",
              "    </tr>\n",
              "    <tr>\n",
              "      <th>65502</th>\n",
              "      <td>7.026614</td>\n",
              "      <td>4</td>\n",
              "      <td>2</td>\n",
              "    </tr>\n",
              "    <tr>\n",
              "      <th>65513</th>\n",
              "      <td>17.882050</td>\n",
              "      <td>14</td>\n",
              "      <td>16</td>\n",
              "    </tr>\n",
              "    <tr>\n",
              "      <th>65516</th>\n",
              "      <td>11.626758</td>\n",
              "      <td>14</td>\n",
              "      <td>16</td>\n",
              "    </tr>\n",
              "    <tr>\n",
              "      <th>65521</th>\n",
              "      <td>3.799302</td>\n",
              "      <td>2</td>\n",
              "      <td>2</td>\n",
              "    </tr>\n",
              "  </tbody>\n",
              "</table>\n",
              "<p>7911 rows × 3 columns</p>\n",
              "</div>"
            ],
            "text/plain": [
              "       Predictions  actualleadtime  expected_leadtime\n",
              "1         9.004291               8                 20\n",
              "17        3.317213               2                  2\n",
              "21        4.532260               2                  2\n",
              "22        2.033150               3                  2\n",
              "28       14.324252              22                 10\n",
              "...            ...             ...                ...\n",
              "65492     4.092854               2                  2\n",
              "65502     7.026614               4                  2\n",
              "65513    17.882050              14                 16\n",
              "65516    11.626758              14                 16\n",
              "65521     3.799302               2                  2\n",
              "\n",
              "[7911 rows x 3 columns]"
            ]
          },
          "metadata": {
            "tags": []
          },
          "execution_count": 40
        }
      ]
    },
    {
      "cell_type": "markdown",
      "metadata": {
        "id": "4ikehZDFztTi"
      },
      "source": [
        "## Economic Impact"
      ]
    },
    {
      "cell_type": "code",
      "metadata": {
        "id": "xSk9X0A5lafN",
        "colab": {
          "base_uri": "https://localhost:8080/",
          "height": 419
        },
        "outputId": "cf4e2a25-f8c4-4e4d-ebbc-3d53afc2de4b"
      },
      "source": [
        "final_df['Observed_Difference']=final_df['actualleadtime']-final_df['expected_leadtime']\n",
        "final_df['Predictions_Difference']=round(final_df['Predictions']-final_df['expected_leadtime'])\n",
        "final_df['Predictions_Difference'].round()\n",
        "final_df"
      ],
      "execution_count": null,
      "outputs": [
        {
          "output_type": "execute_result",
          "data": {
            "text/html": [
              "<div>\n",
              "<style scoped>\n",
              "    .dataframe tbody tr th:only-of-type {\n",
              "        vertical-align: middle;\n",
              "    }\n",
              "\n",
              "    .dataframe tbody tr th {\n",
              "        vertical-align: top;\n",
              "    }\n",
              "\n",
              "    .dataframe thead th {\n",
              "        text-align: right;\n",
              "    }\n",
              "</style>\n",
              "<table border=\"1\" class=\"dataframe\">\n",
              "  <thead>\n",
              "    <tr style=\"text-align: right;\">\n",
              "      <th></th>\n",
              "      <th>Predictions</th>\n",
              "      <th>actualleadtime</th>\n",
              "      <th>expected_leadtime</th>\n",
              "      <th>Observed_Difference</th>\n",
              "      <th>Predictions_Difference</th>\n",
              "    </tr>\n",
              "  </thead>\n",
              "  <tbody>\n",
              "    <tr>\n",
              "      <th>1</th>\n",
              "      <td>9.004291</td>\n",
              "      <td>8</td>\n",
              "      <td>20</td>\n",
              "      <td>-12</td>\n",
              "      <td>-11.0</td>\n",
              "    </tr>\n",
              "    <tr>\n",
              "      <th>17</th>\n",
              "      <td>3.317213</td>\n",
              "      <td>2</td>\n",
              "      <td>2</td>\n",
              "      <td>0</td>\n",
              "      <td>1.0</td>\n",
              "    </tr>\n",
              "    <tr>\n",
              "      <th>21</th>\n",
              "      <td>4.532260</td>\n",
              "      <td>2</td>\n",
              "      <td>2</td>\n",
              "      <td>0</td>\n",
              "      <td>3.0</td>\n",
              "    </tr>\n",
              "    <tr>\n",
              "      <th>22</th>\n",
              "      <td>2.033150</td>\n",
              "      <td>3</td>\n",
              "      <td>2</td>\n",
              "      <td>1</td>\n",
              "      <td>0.0</td>\n",
              "    </tr>\n",
              "    <tr>\n",
              "      <th>28</th>\n",
              "      <td>14.324252</td>\n",
              "      <td>22</td>\n",
              "      <td>10</td>\n",
              "      <td>12</td>\n",
              "      <td>4.0</td>\n",
              "    </tr>\n",
              "    <tr>\n",
              "      <th>...</th>\n",
              "      <td>...</td>\n",
              "      <td>...</td>\n",
              "      <td>...</td>\n",
              "      <td>...</td>\n",
              "      <td>...</td>\n",
              "    </tr>\n",
              "    <tr>\n",
              "      <th>65492</th>\n",
              "      <td>4.092854</td>\n",
              "      <td>2</td>\n",
              "      <td>2</td>\n",
              "      <td>0</td>\n",
              "      <td>2.0</td>\n",
              "    </tr>\n",
              "    <tr>\n",
              "      <th>65502</th>\n",
              "      <td>7.026614</td>\n",
              "      <td>4</td>\n",
              "      <td>2</td>\n",
              "      <td>2</td>\n",
              "      <td>5.0</td>\n",
              "    </tr>\n",
              "    <tr>\n",
              "      <th>65513</th>\n",
              "      <td>17.882050</td>\n",
              "      <td>14</td>\n",
              "      <td>16</td>\n",
              "      <td>-2</td>\n",
              "      <td>2.0</td>\n",
              "    </tr>\n",
              "    <tr>\n",
              "      <th>65516</th>\n",
              "      <td>11.626758</td>\n",
              "      <td>14</td>\n",
              "      <td>16</td>\n",
              "      <td>-2</td>\n",
              "      <td>-4.0</td>\n",
              "    </tr>\n",
              "    <tr>\n",
              "      <th>65521</th>\n",
              "      <td>3.799302</td>\n",
              "      <td>2</td>\n",
              "      <td>2</td>\n",
              "      <td>0</td>\n",
              "      <td>2.0</td>\n",
              "    </tr>\n",
              "  </tbody>\n",
              "</table>\n",
              "<p>7911 rows × 5 columns</p>\n",
              "</div>"
            ],
            "text/plain": [
              "       Predictions  actualleadtime  ...  Observed_Difference  Predictions_Difference\n",
              "1         9.004291               8  ...                  -12                   -11.0\n",
              "17        3.317213               2  ...                    0                     1.0\n",
              "21        4.532260               2  ...                    0                     3.0\n",
              "22        2.033150               3  ...                    1                     0.0\n",
              "28       14.324252              22  ...                   12                     4.0\n",
              "...            ...             ...  ...                  ...                     ...\n",
              "65492     4.092854               2  ...                    0                     2.0\n",
              "65502     7.026614               4  ...                    2                     5.0\n",
              "65513    17.882050              14  ...                   -2                     2.0\n",
              "65516    11.626758              14  ...                   -2                    -4.0\n",
              "65521     3.799302               2  ...                    0                     2.0\n",
              "\n",
              "[7911 rows x 5 columns]"
            ]
          },
          "metadata": {
            "tags": []
          },
          "execution_count": 41
        }
      ]
    },
    {
      "cell_type": "code",
      "metadata": {
        "id": "TRWZ7ThtTytP"
      },
      "source": [
        "final_df['penalty'] = \"\"\n",
        "\n",
        "for index, row in final_df.iterrows():\n",
        "  \n",
        "  \n",
        "  if final_df.loc[index, 'Predictions_Difference'] < -2:\n",
        "    final_df.loc[index, 'penalty'] = final_df.loc[index, 'Predictions_Difference'] * -400\n",
        "\n",
        "  elif final_df.loc[index, 'Predictions_Difference'] <= 0 and final_df.loc[index, 'Predictions_Difference'] >= -2:\n",
        "    final_df.loc[index, 'penalty'] = 0\n",
        "\n",
        "  elif final_df.loc[index, 'Predictions_Difference'] == 1:\n",
        "    final_df.loc[index, 'penalty'] = 400\n",
        "\n",
        "  elif final_df.loc[index, 'Predictions_Difference'] >= 2 and final_df.loc[index, 'Predictions_Difference'] < 4:\n",
        "    final_df.loc[index, 'penalty'] = 600\n",
        "\n",
        "  elif final_df.loc[index, 'Predictions_Difference'] >= 4 and final_df.loc[index, 'Predictions_Difference'] < 8:\n",
        "    final_df.loc[index, 'penalty'] = 1000\n",
        "\n",
        "  else:\n",
        "    final_df.loc[index, 'penalty'] = 4000\n",
        "\n",
        "\n"
      ],
      "execution_count": null,
      "outputs": []
    },
    {
      "cell_type": "code",
      "metadata": {
        "id": "_miwcRXEsrLK"
      },
      "source": [
        "# Economic Impact Model: Actual \n",
        "\n",
        "final_df['penalty_actual'] = \"\"\n",
        "\n",
        "for index, row in final_df.iterrows():\n",
        "  \n",
        "  \n",
        "  if final_df.loc[index, 'Observed_Difference'] < -2:\n",
        "    final_df.loc[index, 'penalty_actual'] = final_df.loc[index, 'Observed_Difference'] * -400\n",
        "\n",
        "  elif final_df.loc[index, 'Observed_Difference'] <= 0 and final_df.loc[index, 'Observed_Difference'] >= -2:\n",
        "    final_df.loc[index, 'penalty_actual'] = 0\n",
        "\n",
        "  elif final_df.loc[index, 'Observed_Difference'] == 1:\n",
        "    final_df.loc[index, 'penalty_actual'] = 400\n",
        "\n",
        "  elif final_df.loc[index, 'Observed_Difference'] >= 2 and final_df.loc[index, 'Observed_Difference'] < 4:\n",
        "    final_df.loc[index, 'penalty_actual'] = 600\n",
        "\n",
        "  elif final_df.loc[index, 'Observed_Difference'] >= 4 and final_df.loc[index, 'Observed_Difference'] < 8:\n",
        "    final_df.loc[index, 'penalty_actual'] = 1000\n",
        "\n",
        "  else:\n",
        "    final_df.loc[index, 'penalty_actual'] = 4000\n",
        "\n"
      ],
      "execution_count": null,
      "outputs": []
    },
    {
      "cell_type": "code",
      "metadata": {
        "colab": {
          "base_uri": "https://localhost:8080/",
          "height": 607
        },
        "id": "jd8BMXgwq_Os",
        "outputId": "e23b7e53-a5fc-4268-a626-5326b0b5abf8"
      },
      "source": [
        "# Validate that the predictions are correct \n",
        "final_df[final_df['Predictions_Difference'] == -20]"
      ],
      "execution_count": null,
      "outputs": [
        {
          "output_type": "execute_result",
          "data": {
            "text/html": [
              "<div>\n",
              "<style scoped>\n",
              "    .dataframe tbody tr th:only-of-type {\n",
              "        vertical-align: middle;\n",
              "    }\n",
              "\n",
              "    .dataframe tbody tr th {\n",
              "        vertical-align: top;\n",
              "    }\n",
              "\n",
              "    .dataframe thead th {\n",
              "        text-align: right;\n",
              "    }\n",
              "</style>\n",
              "<table border=\"1\" class=\"dataframe\">\n",
              "  <thead>\n",
              "    <tr style=\"text-align: right;\">\n",
              "      <th></th>\n",
              "      <th>Predictions</th>\n",
              "      <th>actualleadtime</th>\n",
              "      <th>expected_leadtime</th>\n",
              "      <th>Observed_Difference</th>\n",
              "      <th>Predictions_Difference</th>\n",
              "      <th>penalty</th>\n",
              "      <th>penalty_actual</th>\n",
              "    </tr>\n",
              "  </thead>\n",
              "  <tbody>\n",
              "    <tr>\n",
              "      <th>203</th>\n",
              "      <td>10.202415</td>\n",
              "      <td>6</td>\n",
              "      <td>30</td>\n",
              "      <td>-24</td>\n",
              "      <td>-20.0</td>\n",
              "      <td>8000</td>\n",
              "      <td>9600</td>\n",
              "    </tr>\n",
              "    <tr>\n",
              "      <th>2612</th>\n",
              "      <td>9.506804</td>\n",
              "      <td>2</td>\n",
              "      <td>30</td>\n",
              "      <td>-28</td>\n",
              "      <td>-20.0</td>\n",
              "      <td>8000</td>\n",
              "      <td>11200</td>\n",
              "    </tr>\n",
              "    <tr>\n",
              "      <th>9221</th>\n",
              "      <td>9.364407</td>\n",
              "      <td>20</td>\n",
              "      <td>29</td>\n",
              "      <td>-9</td>\n",
              "      <td>-20.0</td>\n",
              "      <td>8000</td>\n",
              "      <td>3600</td>\n",
              "    </tr>\n",
              "    <tr>\n",
              "      <th>9710</th>\n",
              "      <td>5.673522</td>\n",
              "      <td>5</td>\n",
              "      <td>26</td>\n",
              "      <td>-21</td>\n",
              "      <td>-20.0</td>\n",
              "      <td>8000</td>\n",
              "      <td>8400</td>\n",
              "    </tr>\n",
              "    <tr>\n",
              "      <th>12221</th>\n",
              "      <td>4.028032</td>\n",
              "      <td>5</td>\n",
              "      <td>24</td>\n",
              "      <td>-19</td>\n",
              "      <td>-20.0</td>\n",
              "      <td>8000</td>\n",
              "      <td>7600</td>\n",
              "    </tr>\n",
              "    <tr>\n",
              "      <th>12843</th>\n",
              "      <td>9.506804</td>\n",
              "      <td>13</td>\n",
              "      <td>30</td>\n",
              "      <td>-17</td>\n",
              "      <td>-20.0</td>\n",
              "      <td>8000</td>\n",
              "      <td>6800</td>\n",
              "    </tr>\n",
              "    <tr>\n",
              "      <th>17970</th>\n",
              "      <td>5.996023</td>\n",
              "      <td>3</td>\n",
              "      <td>26</td>\n",
              "      <td>-23</td>\n",
              "      <td>-20.0</td>\n",
              "      <td>8000</td>\n",
              "      <td>9200</td>\n",
              "    </tr>\n",
              "    <tr>\n",
              "      <th>26337</th>\n",
              "      <td>15.677181</td>\n",
              "      <td>23</td>\n",
              "      <td>36</td>\n",
              "      <td>-13</td>\n",
              "      <td>-20.0</td>\n",
              "      <td>8000</td>\n",
              "      <td>5200</td>\n",
              "    </tr>\n",
              "    <tr>\n",
              "      <th>26967</th>\n",
              "      <td>11.371509</td>\n",
              "      <td>2</td>\n",
              "      <td>31</td>\n",
              "      <td>-29</td>\n",
              "      <td>-20.0</td>\n",
              "      <td>8000</td>\n",
              "      <td>11600</td>\n",
              "    </tr>\n",
              "    <tr>\n",
              "      <th>28409</th>\n",
              "      <td>11.235946</td>\n",
              "      <td>13</td>\n",
              "      <td>31</td>\n",
              "      <td>-18</td>\n",
              "      <td>-20.0</td>\n",
              "      <td>8000</td>\n",
              "      <td>7200</td>\n",
              "    </tr>\n",
              "    <tr>\n",
              "      <th>29743</th>\n",
              "      <td>9.958540</td>\n",
              "      <td>2</td>\n",
              "      <td>30</td>\n",
              "      <td>-28</td>\n",
              "      <td>-20.0</td>\n",
              "      <td>8000</td>\n",
              "      <td>11200</td>\n",
              "    </tr>\n",
              "    <tr>\n",
              "      <th>30948</th>\n",
              "      <td>5.776954</td>\n",
              "      <td>3</td>\n",
              "      <td>26</td>\n",
              "      <td>-23</td>\n",
              "      <td>-20.0</td>\n",
              "      <td>8000</td>\n",
              "      <td>9200</td>\n",
              "    </tr>\n",
              "    <tr>\n",
              "      <th>41231</th>\n",
              "      <td>11.249074</td>\n",
              "      <td>22</td>\n",
              "      <td>31</td>\n",
              "      <td>-9</td>\n",
              "      <td>-20.0</td>\n",
              "      <td>8000</td>\n",
              "      <td>3600</td>\n",
              "    </tr>\n",
              "    <tr>\n",
              "      <th>43883</th>\n",
              "      <td>9.839616</td>\n",
              "      <td>15</td>\n",
              "      <td>30</td>\n",
              "      <td>-15</td>\n",
              "      <td>-20.0</td>\n",
              "      <td>8000</td>\n",
              "      <td>6000</td>\n",
              "    </tr>\n",
              "    <tr>\n",
              "      <th>46981</th>\n",
              "      <td>9.506804</td>\n",
              "      <td>2</td>\n",
              "      <td>30</td>\n",
              "      <td>-28</td>\n",
              "      <td>-20.0</td>\n",
              "      <td>8000</td>\n",
              "      <td>11200</td>\n",
              "    </tr>\n",
              "    <tr>\n",
              "      <th>47037</th>\n",
              "      <td>12.401755</td>\n",
              "      <td>2</td>\n",
              "      <td>32</td>\n",
              "      <td>-30</td>\n",
              "      <td>-20.0</td>\n",
              "      <td>8000</td>\n",
              "      <td>12000</td>\n",
              "    </tr>\n",
              "    <tr>\n",
              "      <th>57910</th>\n",
              "      <td>9.704243</td>\n",
              "      <td>11</td>\n",
              "      <td>30</td>\n",
              "      <td>-19</td>\n",
              "      <td>-20.0</td>\n",
              "      <td>8000</td>\n",
              "      <td>7600</td>\n",
              "    </tr>\n",
              "    <tr>\n",
              "      <th>57942</th>\n",
              "      <td>13.583049</td>\n",
              "      <td>6</td>\n",
              "      <td>34</td>\n",
              "      <td>-28</td>\n",
              "      <td>-20.0</td>\n",
              "      <td>8000</td>\n",
              "      <td>11200</td>\n",
              "    </tr>\n",
              "  </tbody>\n",
              "</table>\n",
              "</div>"
            ],
            "text/plain": [
              "       Predictions  actualleadtime  ...  penalty  penalty_actual\n",
              "203      10.202415               6  ...     8000            9600\n",
              "2612      9.506804               2  ...     8000           11200\n",
              "9221      9.364407              20  ...     8000            3600\n",
              "9710      5.673522               5  ...     8000            8400\n",
              "12221     4.028032               5  ...     8000            7600\n",
              "12843     9.506804              13  ...     8000            6800\n",
              "17970     5.996023               3  ...     8000            9200\n",
              "26337    15.677181              23  ...     8000            5200\n",
              "26967    11.371509               2  ...     8000           11600\n",
              "28409    11.235946              13  ...     8000            7200\n",
              "29743     9.958540               2  ...     8000           11200\n",
              "30948     5.776954               3  ...     8000            9200\n",
              "41231    11.249074              22  ...     8000            3600\n",
              "43883     9.839616              15  ...     8000            6000\n",
              "46981     9.506804               2  ...     8000           11200\n",
              "47037    12.401755               2  ...     8000           12000\n",
              "57910     9.704243              11  ...     8000            7600\n",
              "57942    13.583049               6  ...     8000           11200\n",
              "\n",
              "[18 rows x 7 columns]"
            ]
          },
          "metadata": {
            "tags": []
          },
          "execution_count": 44
        }
      ]
    },
    {
      "cell_type": "code",
      "metadata": {
        "id": "Ugjg7CyqS8RS"
      },
      "source": [
        "penalty_diff = sum(final_df['penalty']) - sum(final_df['penalty_actual'])\n",
        "penalty = sum(final_df['penalty'])\n",
        "actual_penalty = sum(final_df['penalty_actual'])"
      ],
      "execution_count": null,
      "outputs": []
    },
    {
      "cell_type": "code",
      "metadata": {
        "colab": {
          "base_uri": "https://localhost:8080/"
        },
        "id": "yyNwWFIMQawi",
        "outputId": "78a21103-0d9a-429f-987e-b2faccd9d040"
      },
      "source": [
        "print(\"Penalty Predicted By Model: \" + \"{:,}\".format(penalty))\n",
        "print(\"Penalty From Actual Data: \" + \"{:,}\".format(actual_penalty))\n",
        "print(\"Penalty Difference: \" + \"{:,}\".format(penalty_diff))"
      ],
      "execution_count": null,
      "outputs": [
        {
          "output_type": "stream",
          "text": [
            "Penalty Predicted By Model: 15,289,400.0\n",
            "Penalty From Actual Data: 18,577,400\n",
            "Penalty Difference: -3,288,000.0\n"
          ],
          "name": "stdout"
        }
      ]
    }
  ]
}